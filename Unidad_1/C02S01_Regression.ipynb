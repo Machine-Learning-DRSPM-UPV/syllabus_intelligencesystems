{
 "cells": [
  {
   "cell_type": "markdown",
   "metadata": {},
   "source": [
    "# An Introduction to Regression\n",
    "\n",
    "In this section, you will be introduced to regression. Regression comes in handy when you are trying to predict future variables using historical data. You will learn various regression techniques such as linear regression with single and multiple variables, along with polynomial and Support Vector Regression (SVR). You will use these techniques to predict future stock prices from a stock price data."
   ]
  },
  {
   "cell_type": "markdown",
   "metadata": {},
   "source": [
    "## Introduction\n",
    "\n",
    "In the previous section, you were introduced to the fundamentals of Artificial Intelligence (AI), which helped you create the game Tic-Tac-Toe. In this section, we will be looking at regression, which is a machine learning algorithm that can be used to measure how closely related independent variable(s), called features, relate to a dependent variable called a label.\n",
    "\n",
    "Linear regression is a concept with many applications a variety of fields, ranging from finance (predicting the price of an asset) to business (predicting the sales of a product) and even the economy (predicting economy growth).\n",
    "\n",
    "Most of this section will deal with different forms of linear regression, including linear regression with one variable, linear regression with multiple variables, polynomial regression with one variable, and polynomial regression with multiple variables. Python provides lots of forms of support for performing regression operations and we will also be looking at these later on.\n",
    "\n",
    "We will also use an alternative regression model, called **Support Vector Regression (SVR)**, with different forms of linear regression. Throughout this chapter, we will be using a few sample datasets along with the stock price data loaded from the `Quandl` Python library to predict future prices using different types of regression.\n",
    "\n",
    "---"
   ]
  },
  {
   "cell_type": "markdown",
   "metadata": {},
   "source": [
    "# Linear Regression with One Variable\n",
    "\n",
    "A general regression problem can be defined with the following example. Suppose we have a set of data points and we need to figure out the best fit curve to approximately fit the given data points. This curve will describe the relationship between our input variable, $x$, which is the data point, and the output variable, $y$, which is the curve.\n",
    "\n",
    "Remember, in real life, we often have more than one input variable determining the output variable. However, linear regression with one variable will help us to understand how the input variable impacts the output variable."
   ]
  },
  {
   "cell_type": "markdown",
   "metadata": {},
   "source": [
    "## Types of Regression\n",
    "\n",
    "In this chapter, we will work with regression on the two-dimensional plane. This means that our data points are two-dimensional, and we are looking for a curve to approximate how to calculate one variable from another.\n",
    "\n",
    "We will come across the following types of regression in this chapter:\n",
    "\n",
    "  * **Linear regression with one variable using a polynomial of degree 1**: This is the most basic form of regression, where a straight line approximates the trajectory of future data.\n",
    "  * **Linear regression with multiple variables using a polynomial of degree 1**: We will be using equations of degree 1, but we will also allow multiple input variables, called features.\n",
    "  * **Polynomial regression with one variable**: This is a generic form of the linear regression of one variable. As the polynomial used to approximate the relationship between the input and the output is of an arbitrary degree, we can create curves that fit the data points better than a straight line. The regression is still linear – not because the polynomial is linear, but because the regression problem can be modeled using linear algebra.\n",
    "  * **Polynomial regression with multiple variables**: This is the most generic regression problem, using higher degree polynomials and multiple features to predict the future.\n",
    "  * **SVR**: This form of regression uses Support Vector Machines (SVMs) to predict data points. This type of regression is included to explain SVR's usage compared to the other four regression types.\n",
    "  \n",
    "Now we will deal with the first type of linear regression: we will use one variable, and the polynomial of the regression will describe a straight line.\n",
    "\n",
    "On the two-dimensional plane, we will use the Déscartes coordinate system, more commonly known as the Cartesian coordinate system. We have an x and a y-axis, and the intersection of these two axes is the origin. We denote points by their x and y coordinates.\n",
    "\n",
    "For instance, point $(2, 1)$ corresponds to the black point on the following coordinate system:\n",
    "\n",
    "![Figure 2.1](img/fig2_01.jpg)\n",
    "\n",
    "A straight line can be described with the equation $y = a*x + b$, where a is the slope of the equation, determining how steeply the equation climbs up, and b is a constant determining where the line intersects the y-axis.\n",
    "\n",
    "In Figure 2.2, you can see three equations:\n",
    "\n",
    "  * The straight line is described with the equation $y = 2*x + 1$.\n",
    "  * The dashed line is described with the equation $y = x + 1$.\n",
    "  * The dotted line is described with the equation $y = 0.5*x + 1$.\n",
    "  \n",
    "You can see that all three equations intersect the y-axis at 1, and their slope is determined by the factor by which we multiply x.\n",
    "\n",
    "If you know x, you can solve y. Similarly, if you know y, you can solve x. This equation is a polynomial equation of degree 1, which is the base of linear regression with one variable:\n",
    "\n",
    "![Figure 2.2](img/fig2_02.jpg)\n",
    "\n",
    "We can describe curves instead of straight lines using polynomial equations; for example, the polynomial equation $4x4-3x3-x2-3x+3$ will result in Figure 2.3. This type of equation is the base of polynomial regression with one variable:\n",
    "\n",
    "![Figure 2.3](img/fig2_03.jpg)\n",
    "\n",
    "  > **Note**  \n",
    "  > If you would like to experiment further with the Cartesian coordinate system, you can use the following plotter: [https://s3-us-west-2.amazonaws.com/oerfiles/College+Algebra/calculator.html](https://s3-us-west-2.amazonaws.com/oerfiles/College+Algebra/calculator.html)."
   ]
  },
  {
   "cell_type": "markdown",
   "metadata": {},
   "source": [
    "## Features and Labels\n",
    "\n",
    "In machine learning, we differentiate between features and labels. Features are considered our **input** variables, and labels are our **output** variables.\n",
    "\n",
    "When talking about regression, the possible value of the labels is a continuous set of rational numbers. Think of features as the values on the x-axis and labels as the values on the y-axis.\n",
    "\n",
    "The task of regression is to predict label values based on feature values.\n",
    "\n",
    "We often create a label by projecting the values of a feature in the future.\n",
    "\n",
    "For instance, if we would like to predict the price of a stock for next month using historical monthly data, we would create the label by shifting the stock price feature one month into the future:\n",
    "\n",
    "  * For each stock price feature, the label would be the stock price feature of the next month.\n",
    "  * For the last month, prediction data would not be available, so these values are all `NaN` (Not a Number).\n",
    "  \n",
    "Let's say we have data for the months of `January`, `February`, and `March`, and we want to predict the price for `April`. Our feature for each month will be the current monthly price and the label will be the price of the next month.\n",
    "\n",
    "For instance, take a look at the following table:\n",
    "\n",
    "![Figure 2.4](img/fig2_04.jpg)\n",
    "\n",
    "This means that the label for `January` is the price of `February` and that the label for `February` is actually the price of `March`. The label for March is unknown (`NaN`) as this is the value we are trying to predict."
   ]
  },
  {
   "cell_type": "markdown",
   "metadata": {},
   "source": [
    "## Feature Scaling\n",
    "\n",
    "At times, we have multiple features (inputs) that may have values within completely different ranges. Imagine comparing micrometers on a map to kilometers in the real world. They won't be easy to handle because of the difference in magnitude of nine zeros.\n",
    "\n",
    "A less dramatic difference is the difference between imperial and metric data. For instance, pounds and kilograms, and centimeters and inches, do not compare that well.\n",
    "\n",
    "Therefore, we often scale our features to normalized values that are easier to handle, as we can compare the values of these ranges more easily.\n",
    "\n",
    "We will demonstrate two types of scaling:\n",
    "\n",
    "  * Min-max normalization\n",
    "  * Mean normalization\n",
    "  \n",
    "$$\n",
    "x_{scaled} = \\frac{x - x_{min}}{x_{max} - x_{min}}\n",
    "$$\n",
    "\n",
    "Here, $X_{min}$ is the minimum value of the feature and $X_{max}$ is the maximum value.\n",
    "\n",
    "The feature-scaled values will be within the range of $[0;1]$.\n",
    "\n",
    "Mean normalization is calculated as follows:\n",
    "\n",
    "$$\n",
    "x_{scaled} = \\frac{x - AVG}{x_{MAX} - X_{MIN}}\n",
    "$$\n",
    "\n",
    "Here, $AVG$ is the average.\n",
    "\n",
    "The feature-scaled values will be within the range of $[-1;1]$.\n",
    "\n",
    "Here's an example of both normalizations applied on the first 13 numbers of the Fibonacci sequence.\n",
    "\n",
    "We begin with finding the min-max normalization:"
   ]
  },
  {
   "cell_type": "code",
   "execution_count": 1,
   "metadata": {},
   "outputs": [
    {
     "data": {
      "text/plain": [
       "[0.0,\n",
       " 0.006944444444444444,\n",
       " 0.006944444444444444,\n",
       " 0.013888888888888888,\n",
       " 0.020833333333333332,\n",
       " 0.034722222222222224,\n",
       " 0.05555555555555555,\n",
       " 0.09027777777777778,\n",
       " 0.14583333333333334,\n",
       " 0.2361111111111111,\n",
       " 0.3819444444444444,\n",
       " 0.6180555555555556,\n",
       " 1.0]"
      ]
     },
     "execution_count": 1,
     "metadata": {},
     "output_type": "execute_result"
    }
   ],
   "source": [
    "fibonacci = [0, 1, 1, 2, 3, 5, 8, 13, 21, 34,55, 89, 144]\n",
    "\n",
    "# Min-Max normalization\n",
    "[(float(i) - min(fibonacci)) / (max(fibonacci) - min(fibonacci)) for i in fibonacci]"
   ]
  },
  {
   "cell_type": "markdown",
   "metadata": {},
   "source": [
    "Now, take a look at the following code snippet to find the mean normalization:"
   ]
  },
  {
   "cell_type": "code",
   "execution_count": 2,
   "metadata": {},
   "outputs": [
    {
     "name": "stdout",
     "output_type": "stream",
     "text": [
      "Average:  28.923076923076923\n"
     ]
    },
    {
     "data": {
      "text/plain": [
       "[-0.20085470085470086,\n",
       " -0.19391025641025642,\n",
       " -0.19391025641025642,\n",
       " -0.18696581196581197,\n",
       " -0.18002136752136752,\n",
       " -0.16613247863247863,\n",
       " -0.1452991452991453,\n",
       " -0.11057692307692307,\n",
       " -0.05502136752136752,\n",
       " 0.035256410256410256,\n",
       " 0.18108974358974358,\n",
       " 0.4172008547008547,\n",
       " 0.7991452991452992]"
      ]
     },
     "execution_count": 2,
     "metadata": {},
     "output_type": "execute_result"
    }
   ],
   "source": [
    "# Mean normalization\n",
    "avg = sum(fibonacci) / len(fibonacci)\n",
    "print(\"Average: \", avg)\n",
    "\n",
    "[(float(i)-avg) / (max(fibonacci) - min(fibonacci)) for i in fibonacci]"
   ]
  },
  {
   "cell_type": "markdown",
   "metadata": {},
   "source": [
    "  > **Note**  \n",
    "  > Scaling could add to the processing time, but, often, it is an important step to add.\n",
    "  \n",
    "In the scikit-learn library, we have access to the `preprocessing.scale` function, which scales NumPy arrays:"
   ]
  },
  {
   "cell_type": "code",
   "execution_count": 21,
   "metadata": {},
   "outputs": [
    {
     "name": "stdout",
     "output_type": "stream",
     "text": [
      "[-0.6925069  -0.66856384 -0.66856384 -0.64462079 -0.62067773 -0.57279161\n",
      " -0.50096244 -0.38124715 -0.18970269  0.12155706  0.62436127  1.43842524\n",
      "  2.75529341]\n"
     ]
    }
   ],
   "source": [
    "import numpy as np\n",
    "from sklearn import preprocessing\n",
    "\n",
    "scaled_fibonacci = preprocessing.scale(fibonacci)\n",
    "print(scaled_fibonacci)"
   ]
  },
  {
   "cell_type": "markdown",
   "metadata": {},
   "source": [
    "The `scale` method performs a standardization, which is another type of normalization. Notice that the result is a NumPy array.\n",
    "\n",
    "---"
   ]
  },
  {
   "cell_type": "markdown",
   "metadata": {},
   "source": [
    "## Splitting Data into Training and Testing\n",
    "\n",
    "Now that we have learned how to normalize our dataset, we need to learn about the training-testing split. In order to measure how well our model can generalize its predictive performance, we need to split our dataset into a training set and a testing set. The training set is used by the model to learn from so that it can build predictions. Then, the model will use the testing set to evaluate the performance of its prediction.\n",
    "\n",
    "When we split the dataset, we first need to shuffle it to ensure that our testing set will be a generic representation of our dataset. The split is usually 90% for the training set and 10% for the testing set.\n",
    "\n",
    "With training and testing, we can measure whether our model is overfitting or underfitting.\n",
    "\n",
    "**Overfitting** occurs when the trained model fits the training dataset too well. The model will be very accurate on the training data, but it will not be usable in real life, as its accuracy will decrease when used on any other data. The model adjusts to the random noise in the training data and assumes patterns on this noise that yield false predictions.\n",
    "\n",
    "**Underfitting** occurs when the trained model does not fit the training data well enough to recognize important patterns in the data. As a result, it cannot make accurate predictions on new data. One example of this is when we attempt to do linear regression on a dataset that is not linear. For example, the Fibonacci sequence is not linear; therefore, a model on a Fibonacci-like sequence cannot be linear either.\n",
    "\n",
    "We can do the training-testing split using the `model_selection` library of scikit-learn.\n",
    "\n",
    "Suppose, in our example, that we have scaled the Fibonacci data and defined its indices as labels:"
   ]
  },
  {
   "cell_type": "code",
   "execution_count": 4,
   "metadata": {},
   "outputs": [],
   "source": [
    "features = preprocessing.scale(fibonacci)\n",
    "label = np.array(range(13))"
   ]
  },
  {
   "cell_type": "markdown",
   "metadata": {},
   "source": [
    "Now, let's use $10\\%$ of the data as test data, `test_size=0.1`, and specify `random_state` parameter in order to get the exact same split every time we run the code:"
   ]
  },
  {
   "cell_type": "code",
   "execution_count": 5,
   "metadata": {},
   "outputs": [],
   "source": [
    "from sklearn import model_selection\n",
    "\n",
    "(x_train, x_test, y_train, y_test) = model_selection.train_test_split(features, label, test_size=0.1, random_state=8)"
   ]
  },
  {
   "cell_type": "markdown",
   "metadata": {},
   "source": [
    "Our dataset has been split into test and training sets for our features (`x_train` and `x_test`) and for our labels (`y_train` and `y_test`).\n",
    "\n",
    "Finally, let's check each set, beginning with the `x_train` feature:"
   ]
  },
  {
   "cell_type": "code",
   "execution_count": 6,
   "metadata": {},
   "outputs": [
    {
     "data": {
      "text/plain": [
       "array([ 1.43842524, -0.18970269, -0.50096244,  2.75529341, -0.6925069 ,\n",
       "       -0.66856384, -0.57279161,  0.12155706, -0.66856384, -0.62067773,\n",
       "       -0.64462079])"
      ]
     },
     "execution_count": 6,
     "metadata": {},
     "output_type": "execute_result"
    }
   ],
   "source": [
    "x_train"
   ]
  },
  {
   "cell_type": "markdown",
   "metadata": {},
   "source": [
    "Next, we check for `x_test`:"
   ]
  },
  {
   "cell_type": "code",
   "execution_count": 7,
   "metadata": {},
   "outputs": [
    {
     "data": {
      "text/plain": [
       "array([-0.38124715,  0.62436127])"
      ]
     },
     "execution_count": 7,
     "metadata": {},
     "output_type": "execute_result"
    }
   ],
   "source": [
    "x_test"
   ]
  },
  {
   "cell_type": "markdown",
   "metadata": {},
   "source": [
    "Then, we check for `y_train`:"
   ]
  },
  {
   "cell_type": "code",
   "execution_count": 8,
   "metadata": {},
   "outputs": [
    {
     "data": {
      "text/plain": [
       "array([11,  8,  6, 12,  0,  2,  5,  9,  1,  4,  3])"
      ]
     },
     "execution_count": 8,
     "metadata": {},
     "output_type": "execute_result"
    }
   ],
   "source": [
    "y_train"
   ]
  },
  {
   "cell_type": "markdown",
   "metadata": {},
   "source": [
    "Next, we check for `y_test`:"
   ]
  },
  {
   "cell_type": "code",
   "execution_count": 9,
   "metadata": {},
   "outputs": [
    {
     "data": {
      "text/plain": [
       "array([ 7, 10])"
      ]
     },
     "execution_count": 9,
     "metadata": {},
     "output_type": "execute_result"
    }
   ],
   "source": [
    "y_test"
   ]
  },
  {
   "cell_type": "markdown",
   "metadata": {},
   "source": [
    "In the preceding output, we can see that our split has been properly executed; for instance, our label has been split into `y_test`, which contains the $7$ and $10$ indexes, and `y_train` which contains the remaining 11 indexes. The same logic has been applied to our features and we have 2 values in `x_test` and 11 values in `x_train`.\n",
    "\n",
    "---"
   ]
  },
  {
   "cell_type": "markdown",
   "metadata": {},
   "source": [
    "## Fitting a Model on Data with scikit-learn\n",
    "\n",
    "We are now going to illustrate the process of regression on an example where we only have one feature and minimal data.\n",
    "\n",
    "As we only have one feature, we have to format `x_train` by reshaping it with `x_train.reshape (-1,1)` to a NumPy array containing one feature.\n",
    "\n",
    "Therefore, before executing the code on fitting the best line, execute the following code:"
   ]
  },
  {
   "cell_type": "code",
   "execution_count": 10,
   "metadata": {},
   "outputs": [],
   "source": [
    "x_train = x_train.reshape(-1, 1)\n",
    "x_test = x_test.reshape(-1, 1)"
   ]
  },
  {
   "cell_type": "markdown",
   "metadata": {},
   "source": [
    "We can fit a linear regression model on our data with the following code:"
   ]
  },
  {
   "cell_type": "code",
   "execution_count": 11,
   "metadata": {},
   "outputs": [
    {
     "data": {
      "text/plain": [
       "array([4.46396931, 7.49212796])"
      ]
     },
     "execution_count": 11,
     "metadata": {},
     "output_type": "execute_result"
    }
   ],
   "source": [
    "from sklearn import linear_model\n",
    "\n",
    "linear_regression = linear_model.LinearRegression()\n",
    "model = linear_regression.fit(x_train, y_train)\n",
    "model.predict(x_test)"
   ]
  },
  {
   "cell_type": "markdown",
   "metadata": {},
   "source": [
    "We can also calculate the score associated with the model:"
   ]
  },
  {
   "cell_type": "code",
   "execution_count": 12,
   "metadata": {},
   "outputs": [
    {
     "data": {
      "text/plain": [
       "-1.8268608450379085"
      ]
     },
     "execution_count": 12,
     "metadata": {},
     "output_type": "execute_result"
    }
   ],
   "source": [
    "model.score(x_test, y_test)"
   ]
  },
  {
   "cell_type": "markdown",
   "metadata": {},
   "source": [
    "This score represents the accuracy of the model and is defined as the R2 or **coefficient of determination**. It represents how well we can predict the features from the labels.\n",
    "\n",
    "In our example, an $R^2$ of $-1.8268$ indicates a very bad model as the best possible score is 1. A score of 0 can be achieved if we constantly predict the labels by using the average value of the features.\n",
    "\n",
    "Our model does not perform well for two reasons:\n",
    "\n",
    "  * If we check our previous Fibonacci sequence, 11 training data points and 2 testing data points are simply not enough to perform a proper predictive analysis.\n",
    "  * Even if we ignore the number of points, the Fibonacci sequence does not describe a linear relationship between x and y. Approximating a nonlinear function with a line is only useful if we are looking at two very close data points.\n",
    "  \n",
    "---"
   ]
  },
  {
   "cell_type": "markdown",
   "metadata": {},
   "source": [
    "## Linear Regression Using NumPy Arrays\n",
    "\n",
    "One reason why NumPy arrays are handier than Python lists is that they can be treated as vectors. There are a few operations defined on vectors that can simplify our calculations. We can perform operations on vectors of similar lengths.\n",
    "\n",
    "Let's take, for example, two vectors, $V_1$ and $V_2$, with three coordinates each:\n",
    "\n",
    "  * $V_1 = (a, b, c)$ with $a=1$, $b=2$, and $c=3$\n",
    "  * $ V_2 = (d, e, f)$ with $d=2$, $e=0$, and $f=2$\n",
    "\n",
    "The addition of these two vectors will be this:\n",
    "\n",
    "$$\n",
    "V_1 + V_2 = (a+d, b+e, c+f) = (1+2, 2+0, 3+2) = (3,2,5)\n",
    "$$\n",
    "\n",
    "The product of these two vectors will be this:\n",
    "\n",
    "$$\n",
    "V_1 + V_2 = (a*d, b*e, c*f) = (1*2, 2*0, 3*2) = (2,0,6)\n",
    "$$\n",
    "\n",
    "You can think of each vector as our datasets with, for example, the first vector as our **features set** and the second vector as our **labels set**. With Python being able to do vector calculations, this will greatly simplify the calculations required for our linear regression models.\n",
    "\n",
    "Now, let's build a linear regression using NumPy in the following example.\n",
    "\n",
    "Suppose we have two sets of data with 13 data points each; we want to build a linear regression that best fits all the data points for each set.\n",
    "\n",
    "Our first set is defined as follows:"
   ]
  },
  {
   "cell_type": "code",
   "execution_count": 14,
   "metadata": {},
   "outputs": [
    {
     "name": "stdout",
     "output_type": "stream",
     "text": [
      "[2, 8, 8, 18, 25, 21, 32, 44, 32, 48, 61, 45, 62]\n",
      "[1, 2, 3, 4, 5, 6, 7, 8, 9, 10, 11, 12, 13]\n"
     ]
    }
   ],
   "source": [
    "V1 = [2, 8, 8, 18, 25, 21, 32, 44, 32, 48, 61, 45, 62]\n",
    "V2 = list(range(1, 14))\n",
    "\n",
    "print(V1)\n",
    "print(V2)"
   ]
  },
  {
   "cell_type": "markdown",
   "metadata": {},
   "source": [
    "If we plot this dataset with the values `V1` as the y-axis, and the index of each value `V2` as the x-axis, we will get the following plot:"
   ]
  },
  {
   "cell_type": "code",
   "execution_count": 19,
   "metadata": {},
   "outputs": [
    {
     "data": {
      "text/plain": [
       "<matplotlib.collections.PathCollection at 0x7f2373feed30>"
      ]
     },
     "execution_count": 19,
     "metadata": {},
     "output_type": "execute_result"
    },
    {
     "data": {
      "image/png": "[encoded data removed]",
      "text/plain": [
       "<Figure size 432x288 with 1 Axes>"
      ]
     },
     "metadata": {
      "needs_background": "light"
     },
     "output_type": "display_data"
    }
   ],
   "source": [
    "import matplotlib.pyplot as plt\n",
    "\n",
    "plt.scatter(V2, V1)"
   ]
  },
  {
   "cell_type": "markdown",
   "metadata": {},
   "source": [
    "We can see that this dataset's distribution seems linear in nature, and if we wanted to draw a line that was as close as possible to each dot, it wouldn't be too hard. A simple linear regression appears appropriate in this case.\n",
    "\n",
    "Our second set is the first 13 values scaled in the Fibonacci sequence that we saw earlier in the Feature Scaling section:"
   ]
  },
  {
   "cell_type": "code",
   "execution_count": 23,
   "metadata": {},
   "outputs": [
    {
     "name": "stdout",
     "output_type": "stream",
     "text": [
      "[-0.6925069  -0.66856384 -0.66856384 -0.64462079 -0.62067773 -0.57279161\n",
      " -0.50096244 -0.38124715 -0.18970269  0.12155706  0.62436127  1.43842524\n",
      "  2.75529341]\n"
     ]
    }
   ],
   "source": [
    "print(scaled_fibonacci)"
   ]
  },
  {
   "cell_type": "markdown",
   "metadata": {},
   "source": [
    "If we plot this dataset with the values as the y-axis and the index of each value as the x-axis, we will get the following plot:"
   ]
  },
  {
   "cell_type": "code",
   "execution_count": 24,
   "metadata": {},
   "outputs": [
    {
     "data": {
      "text/plain": [
       "<matplotlib.collections.PathCollection at 0x7f2373f52940>"
      ]
     },
     "execution_count": 24,
     "metadata": {},
     "output_type": "execute_result"
    },
    {
     "data": {
      "image/png": "[encoded data removed]",
      "text/plain": [
       "<Figure size 432x288 with 1 Axes>"
      ]
     },
     "metadata": {
      "needs_background": "light"
     },
     "output_type": "display_data"
    }
   ],
   "source": [
    "plt.scatter(V2, scaled_fibonacci)"
   ]
  },
  {
   "cell_type": "markdown",
   "metadata": {},
   "source": [
    "We can see that this dataset's distribution doesn't appear to be linear, and if we wanted to draw a line that was as close as possible to each dot, our line would miss quite a lot of dots. A simple linear regression will probably struggle in this situation.\n",
    "\n",
    "We know that the equation of a straight line is $y = a * x + b$.\n",
    "\n",
    "In this equation, $a$ is the slope, and $b$ is the y intercept. To find the line of best fit, we must find the coefficients of $a$ and $b$.\n",
    "\n",
    "In order to do this, we will use the least-squares method, which can be achieved by completing the following steps:\n",
    "\n",
    "  1. For each data point calculate $x^2$ and $x * y$. Sum all of $x, y, x^2$ and $x * y$, which gives us $\\sum{X}$, $\\sum{y}$, $\\sum{X^2}$ and $\\sum{Xy}$ ($\\sum{X}$ means \"sum up\") \n",
    "  2. Calculate the slope, $a$ as\n",
    "    $$\n",
    "    a = \\frac{N \\sum{xy} - \\sum{x} \\sum{y}}{N \\sum{X^2} - (\\sum{X})^2}\n",
    "    $$\n",
    "    with $N$ as the total number of data points.\n",
    "  3. Calculate the $y$ intercept, $b$ as\n",
    "    $$\n",
    "    b = \\frac{\\sum{y} - a \\sum{x}}{N}\n",
    "    $$"
   ]
  },
  {
   "cell_type": "markdown",
   "metadata": {},
   "source": [
    "Now, let's apply these steps using NumPy as an example for the first dataset in the following code.\n",
    "\n",
    "Let's take a look at the first step:"
   ]
  },
  {
   "cell_type": "code",
   "execution_count": 25,
   "metadata": {},
   "outputs": [],
   "source": [
    "import numpy as np\n",
    "\n",
    "x = np.array(range(1, 14))\n",
    "y = np.array([2, 8, 8, 18, 25, 21, 32, 44, 32, 48, 61, 45, 62])\n",
    "x_2 = x**2\n",
    "xy = x*y"
   ]
  },
  {
   "cell_type": "markdown",
   "metadata": {},
   "source": [
    "For `x_2`, the output will be this:"
   ]
  },
  {
   "cell_type": "code",
   "execution_count": 27,
   "metadata": {},
   "outputs": [
    {
     "data": {
      "text/plain": [
       "array([  1,   4,   9,  16,  25,  36,  49,  64,  81, 100, 121, 144, 169])"
      ]
     },
     "execution_count": 27,
     "metadata": {},
     "output_type": "execute_result"
    }
   ],
   "source": [
    "x_2"
   ]
  },
  {
   "cell_type": "markdown",
   "metadata": {},
   "source": [
    "For `xy`, the output will be this:"
   ]
  },
  {
   "cell_type": "code",
   "execution_count": 28,
   "metadata": {},
   "outputs": [
    {
     "data": {
      "text/plain": [
       "array([  2,  16,  24,  72, 125, 126, 224, 352, 288, 480, 671, 540, 806])"
      ]
     },
     "execution_count": 28,
     "metadata": {},
     "output_type": "execute_result"
    }
   ],
   "source": [
    "xy"
   ]
  },
  {
   "cell_type": "markdown",
   "metadata": {},
   "source": [
    "Now, let's move on to the next step:"
   ]
  },
  {
   "cell_type": "code",
   "execution_count": 29,
   "metadata": {},
   "outputs": [],
   "source": [
    "sum_x = sum(x)\n",
    "sum_y = sum(y)\n",
    "sum_x_2 = sum(x_2)\n",
    "sum_xy = sum(xy)"
   ]
  },
  {
   "cell_type": "markdown",
   "metadata": {},
   "source": [
    "Let's see the outputs: "
   ]
  },
  {
   "cell_type": "code",
   "execution_count": 31,
   "metadata": {},
   "outputs": [
    {
     "name": "stdout",
     "output_type": "stream",
     "text": [
      "sum_x:  91\n",
      "sum_y:  406\n",
      "sum_x_2:  819\n",
      "sum_xy:  3726\n"
     ]
    }
   ],
   "source": [
    "print('sum_x: ', sum_x)\n",
    "print('sum_y: ', sum_y)\n",
    "print('sum_x_2: ', sum_x_2)\n",
    "print('sum_xy: ', sum_xy)"
   ]
  },
  {
   "cell_type": "markdown",
   "metadata": {},
   "source": [
    "Now, let's move on to the next step:"
   ]
  },
  {
   "cell_type": "code",
   "execution_count": 32,
   "metadata": {},
   "outputs": [
    {
     "name": "stdout",
     "output_type": "stream",
     "text": [
      "N:  13\n",
      "a:  4.857142857142857\n"
     ]
    }
   ],
   "source": [
    "N = len(x)\n",
    "print('N: ', N)\n",
    "a = (N * sum_xy - (sum_x * sum_y)) / (N * sum_x_2 - (sum_x) ** 2)\n",
    "print('a: ', a)"
   ]
  },
  {
   "cell_type": "markdown",
   "metadata": {},
   "source": [
    "Now, let's move on to the final step:"
   ]
  },
  {
   "cell_type": "markdown",
   "metadata": {},
   "source": [
    "Now, let's move on to the final step:"
   ]
  },
  {
   "cell_type": "code",
   "execution_count": 33,
   "metadata": {},
   "outputs": [
    {
     "name": "stdout",
     "output_type": "stream",
     "text": [
      "b:  -2.7692307692307647\n"
     ]
    }
   ],
   "source": [
    "b = (sum_y - a * sum_x) / N\n",
    "print('b: ', b)"
   ]
  },
  {
   "cell_type": "markdown",
   "metadata": {},
   "source": [
    "Once we plot the line $y = a * x + b$ with the preceding coefficients, we get the following graph:"
   ]
  },
  {
   "cell_type": "code",
   "execution_count": 38,
   "metadata": {},
   "outputs": [
    {
     "data": {
      "image/png": "[encoded data removed]",
      "text/plain": [
       "<Figure size 432x288 with 1 Axes>"
      ]
     },
     "metadata": {
      "needs_background": "light"
     },
     "output_type": "display_data"
    }
   ],
   "source": [
    "y_prim = [a * x + b for x in x]\n",
    "\n",
    "plt.plot(x, y_prim)\n",
    "plt.scatter(x, y)\n",
    "\n",
    "plt.show()"
   ]
  },
  {
   "cell_type": "markdown",
   "metadata": {},
   "source": [
    "As you can see, our linear regression model works quite well on this dataset, which has a linear distribution.\n",
    "\n",
    "  > **Note**  \n",
    "  > You can find a linear regression calculator at [http://www.endmemo.com/statistics/lr.php](http://www.endmemo.com/statistics/lr.php). You can also check the calculator to get an idea of what lines of best fit look like on a given dataset.\n",
    "  \n",
    "We will now repeat the exact same steps for the second dataset:"
   ]
  },
  {
   "cell_type": "code",
   "execution_count": 41,
   "metadata": {},
   "outputs": [
    {
     "name": "stdout",
     "output_type": "stream",
     "text": [
      "a:  0.21838173535982802\n",
      "b:  -1.528672147518796\n"
     ]
    }
   ],
   "source": [
    "x = np.array(range(1, 14))\n",
    "y = np.asarray(scaled_fibonacci)\n",
    "\n",
    "x_2 = x**2\n",
    "xy = x*y\n",
    "sum_x = sum(x)\n",
    "sum_y = sum(y)\n",
    "sum_x_2 = sum(x_2)\n",
    "sum_xy = sum(xy)\n",
    "N = len(x)\n",
    "a = (N * sum_xy - (sum_x * sum_y)) / (N * sum_x_2 - (sum_x) ** 2)\n",
    "b = (sum_y - a * sum_x) / N\n",
    "\n",
    "print(\"a: \", a)\n",
    "print(\"b: \", b)"
   ]
  },
  {
   "cell_type": "markdown",
   "metadata": {},
   "source": [
    "Once we plot the line $y = a * x + b$ with the preceding coefficients, we get the following graph:"
   ]
  },
  {
   "cell_type": "code",
   "execution_count": 42,
   "metadata": {},
   "outputs": [
    {
     "data": {
      "image/png": "[encoded data removed]",
      "text/plain": [
       "<Figure size 432x288 with 1 Axes>"
      ]
     },
     "metadata": {
      "needs_background": "light"
     },
     "output_type": "display_data"
    }
   ],
   "source": [
    "y_prim = [a * i + b for i in x]\n",
    "\n",
    "plt.scatter(x, y)\n",
    "plt.plot(x, y_prim)\n",
    "\n",
    "plt.show()"
   ]
  },
  {
   "cell_type": "markdown",
   "metadata": {},
   "source": [
    "Clearly, with a nonlinear distribution, our linear regression model struggles to fit the data.\n",
    "\n",
    "---"
   ]
  },
  {
   "cell_type": "markdown",
   "metadata": {},
   "source": [
    "## Fitting a Model Using NumPy Polyfit\n",
    "\n",
    "NumPy Polyfit can also be used to create a line of best fit for linear regression with one variable.\n",
    "\n",
    "The equation for finding the coefficients 15 and 16 is quite long. Fortunately, `numpy.polyfit` in Python performs these calculations to find the coefficients of the line of best fit. The `polyfit` function accepts three arguments: the array of `x` values, the array of `y` values, and the degree of polynomial to look for. As we are looking for a straight line, the highest power of `x` is $1$ in the polynomial:"
   ]
  },
  {
   "cell_type": "code",
   "execution_count": 43,
   "metadata": {},
   "outputs": [
    {
     "name": "stdout",
     "output_type": "stream",
     "text": [
      "a:  4.857142857142857\n",
      "b:  -2.769230769230768\n"
     ]
    }
   ],
   "source": [
    "import numpy as np\n",
    "\n",
    "x = np.array(range(1, 14))\n",
    "y = np.array([2, 8, 8, 18, 25, 21, 32, 44, 32, 48, 61, 45, 62])\n",
    "[a, b] = np.polyfit(x, y, 1)\n",
    "\n",
    "print(\"a: \", a)\n",
    "print(\"b: \", b)"
   ]
  },
  {
   "cell_type": "markdown",
   "metadata": {},
   "source": [
    "### Plotting the Results in Python\n",
    "\n",
    "Suppose you have a set of data points and a regression line; our task is to plot the points and the line together so that we can see the results with our eyes.\n",
    "\n",
    "We will use the `matplotlib.pyplot` library for this. This library has two important functions:\n",
    "\n",
    "  * `scatter`: This displays scattered points on the plane, defined by a list of $x$ coordinates and a list of $y$ coordinates.\n",
    "  * `plot`: Along with two arguments, this function plots a segment defined by two points or a sequence of segments defined by multiple points. A plot is like a scatter, except that instead of displaying the points, they are connected by lines.\n",
    "  \n",
    "A plot with three arguments plots a segment and/or two points formatted according to the third argument.\n",
    "\n",
    "A segment is defined by two points. As x ranges between 1 and 13 (remember the dataset contains 13 data points), it makes sense to display a segment between 0 and 15. We must substitute the value of x in the equation $a * x + b$ to get the corresponding y values:"
   ]
  },
  {
   "cell_type": "code",
   "execution_count": 44,
   "metadata": {},
   "outputs": [
    {
     "data": {
      "image/png": "[encoded data removed]",
      "text/plain": [
       "<Figure size 432x288 with 1 Axes>"
      ]
     },
     "metadata": {
      "needs_background": "light"
     },
     "output_type": "display_data"
    }
   ],
   "source": [
    "# import numpy as np\n",
    "# import matplotlib.pyplot as plt\n",
    "\n",
    "\n",
    "x = np.array(range(1, 14))\n",
    "y = np.asarray([2, 8, 8, 18, 25, 21, 32, 44, 32, 48, 61, 45, 62])\n",
    "\n",
    "x_2 = x**2\n",
    "xy = x*y\n",
    "sum_x = sum(x)\n",
    "sum_y = sum(y)\n",
    "sum_x_2 = sum(x_2)\n",
    "sum_xy = sum(xy)\n",
    "N = len(x)\n",
    "a = (N * sum_xy - (sum_x * sum_y)) / (N * sum_x_2 - (sum_x) ** 2)\n",
    "b = (sum_y - a * sum_x) / N\n",
    "\n",
    "\n",
    "# Plotting the points\n",
    "plt.scatter(x, y)\n",
    "\n",
    "# Plotting the line\n",
    "plt.plot([0, 15], [b, 15 * a+b])\n",
    "plt.show()"
   ]
  },
  {
   "cell_type": "markdown",
   "metadata": {},
   "source": [
    "The regression line and the scattered data points are displayed as expected.\n",
    "\n",
    "However, the plot has an advanced signature. You can use `plot` to draw scattered dots, lines, and any curves on this figure. These variables are interpreted in groups of three:\n",
    "\n",
    "  * `x` values\n",
    "  * `y` values\n",
    "  * Formatting options in the form of a string\n",
    "  \n",
    "Let's create a function for deriving an array of approximated `y` values from an array of approximated `x` values:"
   ]
  },
  {
   "cell_type": "code",
   "execution_count": 45,
   "metadata": {},
   "outputs": [],
   "source": [
    "def fitY(arr):\n",
    "    return [4.857142857142857 * x - 2.769230769230768 for x in arr]"
   ]
  },
  {
   "cell_type": "markdown",
   "metadata": {},
   "source": [
    "We will use the `fitY` function to plot the values:"
   ]
  },
  {
   "cell_type": "code",
   "execution_count": 47,
   "metadata": {},
   "outputs": [
    {
     "data": {
      "image/png": "[encoded data removed]",
      "text/plain": [
       "<Figure size 432x288 with 1 Axes>"
      ]
     },
     "metadata": {
      "needs_background": "light"
     },
     "output_type": "display_data"
    }
   ],
   "source": [
    "plt.plot(x, y, 'go', x, fitY(x), 'r--o')\n",
    "plt.show()"
   ]
  },
  {
   "cell_type": "markdown",
   "metadata": {},
   "source": [
    "Every third argument handles formatting. The letter `g` stands for green, while the letter `r` stands for red. You could have used `b` for blue and `y` for yellow, among other examples. In the absence of a color, each triple value will be displayed using a different color. The `o` character symbolizes that we want to display a dot where each data point lies. Therefore, `go` has nothing to do with movement – it requests the plotter to plot green dots. The `-` characters are responsible for displaying a dashed line. If you just use -1, a straight line appears instead of the dashed line.\n",
    "\n",
    "The Python plotter library offers a simple solution for most of your graphing problems. You can draw as many lines, dots, and curves as you want on this graph.\n",
    "\n",
    "There is a large variety of ways to plot curves. We have seen that the `polyfit` method of the NumPy library returns an array of coefficients to describe a linear equation:"
   ]
  },
  {
   "cell_type": "code",
   "execution_count": 48,
   "metadata": {},
   "outputs": [
    {
     "data": {
      "text/plain": [
       "array([ 4.85714286, -2.76923077])"
      ]
     },
     "execution_count": 48,
     "metadata": {},
     "output_type": "execute_result"
    }
   ],
   "source": [
    "# import numpy as np\n",
    "\n",
    "x = np.array(range(1, 14))\n",
    "y = np.array([2, 8, 8, 18, 25, 21, 32, 44, 32, 48, 61, 45, 62])\n",
    "np.polyfit(x, y, 1)"
   ]
  },
  {
   "cell_type": "markdown",
   "metadata": {},
   "source": [
    "This array describes the equation $4.85714286 * x - 2.76923077$.\n",
    "\n",
    "Suppose we now want to plot a curve, $y = -x^2 + 3x - 2$. This quadratic equation is described by the coefficient array $[-1, 3, -2]$ as $y = (-1) * x^2 + (3) * x - 2$. We could write our own function to calculate the $y$ values belonging to $x$ values. However, the NumPy library already has a feature that can do this work for us – `np.poly1d`:"
   ]
  },
  {
   "cell_type": "code",
   "execution_count": 49,
   "metadata": {},
   "outputs": [],
   "source": [
    "# import numpy as np\n",
    "\n",
    "x = np.array(range(-10, 10, 1))\n",
    "f = np.poly1d([-1, 3, -2])"
   ]
  },
  {
   "cell_type": "markdown",
   "metadata": {},
   "source": [
    "The `f` function that's created by the `poly1d` call not only works with single values but also with lists or NumPy arrays:"
   ]
  },
  {
   "cell_type": "code",
   "execution_count": 51,
   "metadata": {},
   "outputs": [
    {
     "name": "stdout",
     "output_type": "stream",
     "text": [
      "-12\n",
      "[-132 -110  -90  -72  -56  -42  -30  -20  -12   -6   -2    0    0   -2\n",
      "   -6  -12  -20  -30  -42  -56]\n"
     ]
    }
   ],
   "source": [
    "print(f(5))\n",
    "print(f(x))"
   ]
  },
  {
   "cell_type": "markdown",
   "metadata": {},
   "source": [
    "We can now use these values to plot a nonlinear curve:"
   ]
  },
  {
   "cell_type": "code",
   "execution_count": 52,
   "metadata": {},
   "outputs": [
    {
     "data": {
      "image/png": "[encoded data removed]",
      "text/plain": [
       "<Figure size 432x288 with 1 Axes>"
      ]
     },
     "metadata": {
      "needs_background": "light"
     },
     "output_type": "display_data"
    }
   ],
   "source": [
    "import matplotlib.pyplot as plt\n",
    "\n",
    "plt.plot(x, f(x))\n",
    "plt.show()"
   ]
  },
  {
   "cell_type": "markdown",
   "metadata": {},
   "source": [
    "As you can see, we can use the `pyplot` library to easily create the plot of a nonlinear curve.\n",
    "\n",
    "---"
   ]
  },
  {
   "cell_type": "markdown",
   "metadata": {},
   "source": [
    "## Predicting Values with Linear Regression\n",
    "\n",
    "Suppose we are interested in the `y` value belonging to the `x` coordinate `20`. Based on the linear regression model, all we need to do is substitute the value of `20` in the place of `x` on the previously used code:"
   ]
  },
  {
   "cell_type": "code",
   "execution_count": 55,
   "metadata": {},
   "outputs": [
    {
     "data": {
      "image/png": "[encoded data removed]",
      "text/plain": [
       "<Figure size 432x288 with 1 Axes>"
      ]
     },
     "metadata": {
      "needs_background": "light"
     },
     "output_type": "display_data"
    }
   ],
   "source": [
    "x = np.array(range(1, 14))\n",
    "y = np.array([2, 8, 8, 18, 25, 21, 32, 44, 32, 48, 61, 45, 62])\n",
    "\n",
    "a, b = np.polyfit(x, y, 1)\n",
    "\n",
    "# Plotting the points\n",
    "plt.scatter(x, y)\n",
    "\n",
    "# plot the prediction belonging to x = 20\n",
    "plt.scatter(20, a * 20 + b, color='red')\n",
    "\n",
    "# plotting the line\n",
    "plt.plot([0, 25], [b, 25 * a + b])\n",
    "\n",
    "plt.show()"
   ]
  },
  {
   "cell_type": "markdown",
   "metadata": {},
   "source": [
    "Here, we denoted the predicted value with red. This red point is on the best line of fit.\n",
    "\n",
    "---"
   ]
  },
  {
   "cell_type": "markdown",
   "metadata": {},
   "source": [
    "# Linear Regression with Multiple Variables\n",
    "\n",
    "In the previous section, we dealt with linear regression with one variable. Now we will learn an extended version of linear regression, where we will use multiple input variables to predict the output."
   ]
  },
  {
   "cell_type": "markdown",
   "metadata": {},
   "source": [
    "## Multiple Linear Regression\n",
    "\n",
    "If you recall the formula for the line of best fit in linear regression, it was defined as $y = a * x + b$, where $a$ is the slope of the line, $b$ is the y intercept of the line, x is the feature value, and y is the calculated label value.\n",
    "\n",
    "In multiple regression, we have multiple features and one label. If we have three features, $x_1$, $x_2$, and $x_3$, our model changes to $y = a_1 * x_1 + a_2 * x_2 + a_3 * x_3 + b$.\n",
    "\n",
    "In NumPy array format, we can write this equation as follows:\n",
    "\n",
    "```Python\n",
    "y = np.dot(np.array([a1, a2, a3]), np.array([x1, x2, x3]))\n",
    "```\n",
    "\n",
    "For convenience, it makes sense to define the whole equation in a vector multiplication format. The coefficient of $b$ is going to be `1`:\n",
    "\n",
    "```Python\n",
    "y = np.dot(np.array([b, a1, a2, a3]) * np.array([1, x1, x2, x3]))\n",
    "```\n",
    "\n",
    "Multiple linear regression is a simple scalar product of two vectors, where the coefficients $b$, $a_1$, $a_2$ and $a_3$ determine the best fit equation in a four-dimensional space.\n",
    "\n",
    "To understand the formula of multiple linear regression, you will need the scalar product of two vectors. As the other name for a scalar product is a dot product, the NumPy function performing this operation is called `dot`:"
   ]
  },
  {
   "cell_type": "code",
   "execution_count": 57,
   "metadata": {},
   "outputs": [
    {
     "data": {
      "text/plain": [
       "32"
      ]
     },
     "execution_count": 57,
     "metadata": {},
     "output_type": "execute_result"
    }
   ],
   "source": [
    "import numpy as np\n",
    "\n",
    "v1 = [1, 2, 3]\n",
    "v2 = [4, 5, 6]\n",
    "\n",
    "np.dot(v1, v2)"
   ]
  },
  {
   "cell_type": "markdown",
   "metadata": {},
   "source": [
    "The output will be $32$ as `np.dot(v1, v2)= 1 * 4 + 2 * 5 + 3 * 6 = 32`.\n",
    "\n",
    "We simply sum the product of each respective coordinate.\n",
    "\n",
    "We can determine these coefficients by minimizing the error between the data points and the nearest points described by the equation. For simplicity, we will omit the mathematical solution of the best-fit equation and use scikit-learn instead.\n",
    "\n",
    "   > **Note** \n",
    "   > In n-dimensional spaces, where n is greater than 3, the number of dimensions determines the different variables that are in our model. In the preceding example, we have three features ($x_1$, $x_2$, and $x_3$) and one label, y. This yields four dimensions. If you want to imagine a four-dimensional space, you can imagine a three-dimensional space with a fourth dimension of time. A five-dimensional space can be imagined as a four-dimensional space, where each point in time has a temperature. Dimensions are just features (and labels); they do not necessarily correlate with our concept of three-dimensional space."
   ]
  },
  {
   "cell_type": "markdown",
   "metadata": {},
   "source": [
    "### The Process of Linear Regression\n",
    "\n",
    "We will follow the following simple steps to solve linear regression problems:\n",
    "\n",
    "  1. Load data from the data sources.\n",
    "  2. Prepare data for prediction. Data is prepared in this (`normalize`, `format`, and `filter`) format.\n",
    "  3. Compute the parameters of the regression line. Regardless of whether we use linear regression with one variable or with multiple variables, we will follow these steps.\n",
    "  \n",
    "### Importing Data from Data Sources\n",
    "There are multiple libraries that can provide us with access to data sources. As we will be working with stock data, let's cover two examples that are geared toward retrieving financial data: Quandl and Yahoo Finance. Take a look at these important points before moving ahead:\n",
    "\n",
    "  * Scikit-learn comes with a few datasets that can be used for practicing your skills.\n",
    "  * [https://www.quandl.com](https://www.quandl.com) provides you with free and paid financial datasets.\n",
    "  * [https://pandas.pydata.org/](https://pandas.pydata.org/) helps you load any CSV, Excel, JSON, or SQL data.\n",
    "  * Yahoo Finance provides you with financial datasets.\n",
    "  \n",
    "### Loading Stock Prices with Yahoo Finance\n",
    "\n",
    "The process of loading stock data with Yahoo Finance is straightforward. All you need to do is install the `yfinance` package using the following command in Jupyter Notebook:\n",
    "\n",
    "```Python\n",
    "!pip install yfinance\n",
    "```\n",
    "\n",
    "We will download a dataset that has an open price, high price, low price, close price, adjusted close price, and volume values of the S&P 500 index starting from 2015 to January 1, 2020. The S&P 500 index is the stock market index that measures the stock performance of 500 large companies listed in the United States:"
   ]
  },
  {
   "cell_type": "code",
   "execution_count": 58,
   "metadata": {},
   "outputs": [
    {
     "name": "stdout",
     "output_type": "stream",
     "text": [
      "Collecting yfinance\n",
      "  Downloading yfinance-0.1.55.tar.gz (23 kB)\n",
      "Requirement already satisfied: pandas>=0.24 in /home/sanyo/.virtualenvs/TheAppliedAIWorkshop/lib/python3.8/site-packages (from yfinance) (1.1.5)\n",
      "Requirement already satisfied: numpy>=1.15 in /home/sanyo/.virtualenvs/TheAppliedAIWorkshop/lib/python3.8/site-packages (from yfinance) (1.19.4)\n",
      "Requirement already satisfied: requests>=2.20 in /home/sanyo/.virtualenvs/TheAppliedAIWorkshop/lib/python3.8/site-packages (from yfinance) (2.25.0)\n",
      "Collecting lxml>=4.5.1\n",
      "  Downloading lxml-4.6.2-cp38-cp38-manylinux1_x86_64.whl (5.4 MB)\n",
      "\u001b[K     |████████████████████████████████| 5.4 MB 168 kB/s eta 0:00:01\n",
      "\u001b[?25hCollecting multitasking>=0.0.7\n",
      "  Downloading multitasking-0.0.9.tar.gz (8.1 kB)\n",
      "Requirement already satisfied: pytz>=2017.2 in /home/sanyo/.virtualenvs/TheAppliedAIWorkshop/lib/python3.8/site-packages (from pandas>=0.24->yfinance) (2020.4)\n",
      "Requirement already satisfied: python-dateutil>=2.7.3 in /home/sanyo/.virtualenvs/TheAppliedAIWorkshop/lib/python3.8/site-packages (from pandas>=0.24->yfinance) (2.8.1)\n",
      "Requirement already satisfied: six>=1.5 in /home/sanyo/.virtualenvs/TheAppliedAIWorkshop/lib/python3.8/site-packages (from python-dateutil>=2.7.3->pandas>=0.24->yfinance) (1.15.0)\n",
      "Requirement already satisfied: urllib3<1.27,>=1.21.1 in /home/sanyo/.virtualenvs/TheAppliedAIWorkshop/lib/python3.8/site-packages (from requests>=2.20->yfinance) (1.26.2)\n",
      "Requirement already satisfied: chardet<4,>=3.0.2 in /home/sanyo/.virtualenvs/TheAppliedAIWorkshop/lib/python3.8/site-packages (from requests>=2.20->yfinance) (3.0.4)\n",
      "Requirement already satisfied: certifi>=2017.4.17 in /home/sanyo/.virtualenvs/TheAppliedAIWorkshop/lib/python3.8/site-packages (from requests>=2.20->yfinance) (2020.12.5)\n",
      "Requirement already satisfied: idna<3,>=2.5 in /home/sanyo/.virtualenvs/TheAppliedAIWorkshop/lib/python3.8/site-packages (from requests>=2.20->yfinance) (2.10)\n",
      "Building wheels for collected packages: yfinance, multitasking\n",
      "  Building wheel for yfinance (setup.py) ... \u001b[?25ldone\n",
      "\u001b[?25h  Created wheel for yfinance: filename=yfinance-0.1.55-py2.py3-none-any.whl size=22618 sha256=dafe096153d56a253796ca013fbdd07aa328d6ec172f819ae3e7bdc2f63f8694\n",
      "  Stored in directory: /home/sanyo/.cache/pip/wheels/b4/c3/39/9c01ae2b4726f37024bba5592bec868b47a2fab5a786e8979a\n",
      "  Building wheel for multitasking (setup.py) ... \u001b[?25ldone\n",
      "\u001b[?25h  Created wheel for multitasking: filename=multitasking-0.0.9-py3-none-any.whl size=8367 sha256=a8ab7be09b3ab34e6caa86a667d9c5256982ced34e9b1ef8cf17adf16d8baf72\n",
      "  Stored in directory: /home/sanyo/.cache/pip/wheels/57/6d/a3/a39b839cc75274d2acfb1c58bfead2f726c6577fe8c4723f13\n",
      "Successfully built yfinance multitasking\n",
      "Installing collected packages: multitasking, lxml, yfinance\n",
      "Successfully installed lxml-4.6.2 multitasking-0.0.9 yfinance-0.1.55\n"
     ]
    }
   ],
   "source": [
    "!pip install yfinance"
   ]
  },
  {
   "cell_type": "code",
   "execution_count": 59,
   "metadata": {},
   "outputs": [
    {
     "name": "stdout",
     "output_type": "stream",
     "text": [
      "[*********************100%***********************]  1 of 1 completed\n"
     ]
    }
   ],
   "source": [
    "import yfinance as yahoo\n",
    "\n",
    "spx_data_frame = yahoo.download(\"^GSPC\", \"2015-01-01\", \"2020-01-01\")"
   ]
  },
  {
   "cell_type": "markdown",
   "metadata": {},
   "source": [
    "That's all you need to do. The DataFrame containing the S&P 500 index is ready.\n",
    "\n",
    "You can plot the index closing prices using the `plot` method:"
   ]
  },
  {
   "cell_type": "code",
   "execution_count": 60,
   "metadata": {},
   "outputs": [
    {
     "data": {
      "text/plain": [
       "<AxesSubplot:xlabel='Date'>"
      ]
     },
     "execution_count": 60,
     "metadata": {},
     "output_type": "execute_result"
    },
    {
     "data": {
      "image/png": "[encoded data removed]",
      "text/plain": [
       "<Figure size 432x288 with 1 Axes>"
      ]
     },
     "metadata": {
      "needs_background": "light"
     },
     "output_type": "display_data"
    }
   ],
   "source": [
    "spx_data_frame.Close.plot()"
   ]
  },
  {
   "cell_type": "markdown",
   "metadata": {},
   "source": [
    "The data does not appear to be linear; a polynomial regression might be a better model for this dataset.\n",
    "\n",
    "It is also possible to save data to a CSV file using the following code:"
   ]
  },
  {
   "cell_type": "code",
   "execution_count": 61,
   "metadata": {},
   "outputs": [],
   "source": [
    "spx_data_frame.to_csv(\"data/yahoo_spx.csv\")"
   ]
  },
  {
   "cell_type": "markdown",
   "metadata": {},
   "source": [
    "**Got to Exercise 2.02**"
   ]
  },
  {
   "cell_type": "markdown",
   "metadata": {},
   "source": [
    "### Preparing Data for Prediction\n",
    "\n",
    "Before we perform multiple linear regression on our dataset, we must choose the relevant features and the data range on which we will perform the regression.\n",
    "\n",
    "Preparing the data for prediction is the second step in the regression process. This step also has several sub-steps. We will go through these sub-steps in the following exercise.\n",
    "\n",
    "**Go to Exercise 2.03**\n",
    "\n",
    "---"
   ]
  },
  {
   "cell_type": "markdown",
   "metadata": {},
   "source": [
    "## Performing and Validating Linear Regression\n",
    "\n",
    "Now that our data has been prepared, we can perform our linear regression. After that, we will measure our model performance and see how well it performs.\n",
    "\n",
    "We can now create the linear regression model based on the training data:"
   ]
  },
  {
   "cell_type": "code",
   "execution_count": 43,
   "metadata": {},
   "outputs": [],
   "source": [
    "import pandas as pd\n",
    "from sklearn import linear_model\n",
    "\n",
    "df_features_train = pd.read_csv(\"data/YALE_SPCOMP_train.csv\", index_col=0)\n",
    "df_features_test = pd.read_csv(\"data/YALE_SPCOMP_test.csv\", index_col=0)"
   ]
  },
  {
   "cell_type": "code",
   "execution_count": 46,
   "metadata": {},
   "outputs": [],
   "source": [
    "label_train = df_features_train['Real Price Label'].values\n",
    "features_train = df_features_train[['Scaled Long Interest Rate', 'Scaled Real Price', 'Scaled Real Dividend']].values\n",
    "\n",
    "label_test = df_features_test['Real Price Label'].values\n",
    "features_test = df_features_test[['Scaled Long Interest Rate', 'Scaled Real Price', 'Scaled Real Dividend']].values"
   ]
  },
  {
   "cell_type": "code",
   "execution_count": 50,
   "metadata": {},
   "outputs": [
    {
     "name": "stdout",
     "output_type": "stream",
     "text": [
      "(753,)\n",
      "(753, 3)\n",
      "(84,)\n",
      "(84, 3)\n"
     ]
    }
   ],
   "source": [
    "print(label_train.shape)\n",
    "print(features_train.shape)\n",
    "print(label_test.shape)\n",
    "print(features_test.shape)"
   ]
  },
  {
   "cell_type": "code",
   "execution_count": 54,
   "metadata": {},
   "outputs": [
    {
     "ename": "TypeError",
     "evalue": "__init__() got an unexpected keyword argument 'random_state'",
     "output_type": "error",
     "traceback": [
      "\u001b[0;31m---------------------------------------------------------------------------\u001b[0m",
      "\u001b[0;31mTypeError\u001b[0m                                 Traceback (most recent call last)",
      "\u001b[0;32m<ipython-input-54-cd7fac28b674>\u001b[0m in \u001b[0;36m<module>\u001b[0;34m\u001b[0m\n\u001b[0;32m----> 1\u001b[0;31m \u001b[0mmodel\u001b[0m \u001b[0;34m=\u001b[0m \u001b[0mlinear_model\u001b[0m\u001b[0;34m.\u001b[0m\u001b[0mLinearRegression\u001b[0m\u001b[0;34m(\u001b[0m\u001b[0mrandom_state\u001b[0m\u001b[0;34m=\u001b[0m\u001b[0;36m42\u001b[0m\u001b[0;34m)\u001b[0m\u001b[0;34m\u001b[0m\u001b[0;34m\u001b[0m\u001b[0m\n\u001b[0m\u001b[1;32m      2\u001b[0m \u001b[0mmodel\u001b[0m\u001b[0;34m.\u001b[0m\u001b[0mfit\u001b[0m\u001b[0;34m(\u001b[0m\u001b[0mfeatures_train\u001b[0m\u001b[0;34m,\u001b[0m \u001b[0mlabel_train\u001b[0m\u001b[0;34m)\u001b[0m\u001b[0;34m\u001b[0m\u001b[0;34m\u001b[0m\u001b[0m\n",
      "\u001b[0;32m~/.virtualenvs/TheAppliedAIWorkshop/lib/python3.8/site-packages/sklearn/utils/validation.py\u001b[0m in \u001b[0;36minner_f\u001b[0;34m(*args, **kwargs)\u001b[0m\n\u001b[1;32m     61\u001b[0m             \u001b[0mextra_args\u001b[0m \u001b[0;34m=\u001b[0m \u001b[0mlen\u001b[0m\u001b[0;34m(\u001b[0m\u001b[0margs\u001b[0m\u001b[0;34m)\u001b[0m \u001b[0;34m-\u001b[0m \u001b[0mlen\u001b[0m\u001b[0;34m(\u001b[0m\u001b[0mall_args\u001b[0m\u001b[0;34m)\u001b[0m\u001b[0;34m\u001b[0m\u001b[0;34m\u001b[0m\u001b[0m\n\u001b[1;32m     62\u001b[0m             \u001b[0;32mif\u001b[0m \u001b[0mextra_args\u001b[0m \u001b[0;34m<=\u001b[0m \u001b[0;36m0\u001b[0m\u001b[0;34m:\u001b[0m\u001b[0;34m\u001b[0m\u001b[0;34m\u001b[0m\u001b[0m\n\u001b[0;32m---> 63\u001b[0;31m                 \u001b[0;32mreturn\u001b[0m \u001b[0mf\u001b[0m\u001b[0;34m(\u001b[0m\u001b[0;34m*\u001b[0m\u001b[0margs\u001b[0m\u001b[0;34m,\u001b[0m \u001b[0;34m**\u001b[0m\u001b[0mkwargs\u001b[0m\u001b[0;34m)\u001b[0m\u001b[0;34m\u001b[0m\u001b[0;34m\u001b[0m\u001b[0m\n\u001b[0m\u001b[1;32m     64\u001b[0m \u001b[0;34m\u001b[0m\u001b[0m\n\u001b[1;32m     65\u001b[0m             \u001b[0;31m# extra_args > 0\u001b[0m\u001b[0;34m\u001b[0m\u001b[0;34m\u001b[0m\u001b[0;34m\u001b[0m\u001b[0m\n",
      "\u001b[0;31mTypeError\u001b[0m: __init__() got an unexpected keyword argument 'random_state'"
     ]
    }
   ],
   "source": [
    "model = linear_model.LinearRegression()\n",
    "model.fit(features_train, label_train)"
   ]
  },
  {
   "cell_type": "markdown",
   "metadata": {},
   "source": [
    "Once the model is ready, we can use it to predict the labels belonging to the test feature values and use the `score` method from the model to see how accurate it is:"
   ]
  },
  {
   "cell_type": "code",
   "execution_count": 52,
   "metadata": {},
   "outputs": [
    {
     "data": {
      "text/plain": [
       "0.9847533977733427"
      ]
     },
     "execution_count": 52,
     "metadata": {},
     "output_type": "execute_result"
    }
   ],
   "source": [
    "label_predicted = model.predict(features_test)\n",
    "model.score(features_test, label_test)"
   ]
  },
  {
   "cell_type": "markdown",
   "metadata": {},
   "source": [
    "With a score or $R^2$ of $>0.985$, we can conclude that the model is very accurate. This is not a surprise since the financial market grows at around 6-7% a year. This is linear growth, and the model essentially predicts that the markets will continue growing at a linear rate. Concluding that markets tend to increase in the long run is not rocket science."
   ]
  },
  {
   "cell_type": "markdown",
   "metadata": {},
   "source": [
    "## Predicting the Future\n",
    "\n",
    "Now that our model has been trained, we can use it to predict future values. We will use the `scaled_features_latest_3` variable that we created by taking the last three values of the features NumPy array and using it to predict the index price of the next three months in the following code:"
   ]
  },
  {
   "cell_type": "code",
   "execution_count": 53,
   "metadata": {},
   "outputs": [
    {
     "name": "stdout",
     "output_type": "stream",
     "text": [
      "[3109.77708526 3013.56686493 3095.87893954]\n"
     ]
    }
   ],
   "source": [
    "import numpy as np\n",
    "\n",
    "scaled_features_latest_3 = np.array([[-1.38861121, 2.97929738, 3.57121717],\n",
    "                                    [-1.38861121, 2.83538088, 3.61285159],\n",
    "                                    [-1.36423669, 2.95570629, 3.64931605]])\n",
    "label_predicted = model.predict(scaled_features_latest_3)\n",
    "print(label_predicted)"
   ]
  },
  {
   "cell_type": "markdown",
   "metadata": {},
   "source": [
    "By looking at the output, you might think it seems easy to forecast the value of the S&P 500 and use it to earn money by investing in it. Unfortunately, in practice, using this model for making money by betting on the forecast is by no means better than gambling in a casino. This is just an example to illustrate prediction; it is not enough to be used for short-term or long-term speculation on market prices. In addition to this, stock prices are sensitive to many external factors, such as economic recession and government policy. This means that past patterns do not necessarily reflect any patterns in the future.\n",
    "\n",
    "---"
   ]
  },
  {
   "cell_type": "markdown",
   "metadata": {},
   "source": [
    "# Polynomial and Support Vector Regression\n",
    "\n",
    "When performing a polynomial regression, the relationship between x and y, or using their other names, features, and labels, is not a linear equation, but a polynomial equation. This means that instead of the $y = a * x + b$ equation, we can have multiple coefficients and multiple powers of $x$ in the equation.\n",
    "\n",
    "To make matters even more complicated, we can perform polynomial regression using multiple variables, where each feature may have coefficients multiplying different powers of the feature.\n",
    "\n",
    "Our task is to find a curve that best fits our dataset. Once polynomial regression is extended to multiple variables, we will learn the SVM model to perform polynomial regression."
   ]
  },
  {
   "cell_type": "markdown",
   "metadata": {},
   "source": [
    "## Polynomial Regression with One Variable\n",
    "\n",
    "As a recap, we have performed two types of regression so far:\n",
    "\n",
    "  * Simple linear regression: $y = a * x + b$\n",
    "  * Multiple linear regression: $y = b + a_1 * x_1 + a_2 * x_2 + \\dots + a_n * x_n$\n",
    "  \n",
    "We will now learn how to do polynomial linear regression with one variable. The equation for polynomial linear regression is $y = b + a_1 * x + a_2 * (x)^2 + a_3 * (x)^3 + \\dots + a_n * (x)^n$\n",
    "\n",
    "Polynomial linear regression has a vector of coefficients, $(b, a_1, a_2, \\dots, a_n)$, multiplying a vector of degrees of $x$ in the polynomial, $(1, x^1, x^2, \\dots , x^n)$.\n",
    "\n",
    "At times, polynomial regression works better than linear regression. If the relationship between labels and features can be described using a linear equation, then using a linear equation makes perfect sense. If we have a nonlinear growth, polynomial regression tends to approximate the relationship between features and labels better.\n",
    "\n",
    "The simplest implementation of linear regression with one variable was the `polyfit` method of the NumPy library. In the next exercise, we will perform multiple polynomial linear regression with degrees of 2 and 3.\n",
    "\n",
    "  > **Note**  \n",
    "  > Even though our polynomial regression has an equation containing coefficients of xn, this equation is still referred to as polynomial linear regression in literature. Regression is made linear not because we restrict the usage of higher powers of x in the equation, but because the coefficients a1,a2 … and so on are linear in the equation. This means that we use the toolset of linear algebra and work with matrices and vectors to find the missing coefficients that minimize the error of the approximation.\n",
    "  \n",
    "**Go to Exercise 2.04**\n",
    "\n",
    "If you research Binet's formula, you will find out that the Fibonacci function is an exponential function, as the $n^{th}$ Fibonacci number is calculated as the $n^{th}$ power of a constant. Therefore, the higher the polynomial degree we use, the more accurate our approximation will be."
   ]
  },
  {
   "cell_type": "markdown",
   "metadata": {},
   "source": [
    "## Polynomial Regression with Multiple Variables\n",
    "\n",
    "When we have one variable of degree n, we have n+1 coefficients in the equation as $y = b + a_1 * x + a_2 * (x)^2 + a_3 * (x)^3 + \\dots + a_n * (x)^n$.\n",
    "\n",
    "Once we deal with multiple features, $x_1, x_2, \\cdot, x_m$, and their powers of up to the $n^{th}$ degree, we get an $m * (n+1)$ matrix of coefficients. The math will become quite lengthy when we start exploring the details and prove how a polynomial model works. We will also lose the nice visualizations of two-dimensional curves.\n",
    "\n",
    "Therefore, we will apply the concepts learned in the previous section on polynomial regression with one variable and omit the math. When training and testing a linear regression model, we can calculate the mean square error to see how good an approximation a model is.\n",
    "\n",
    "In scikit-learn, the degree of the polynomials used in the approximation is a simple parameter in the model.\n",
    "\n",
    "As polynomial regression is a form of linear regression, we can perform polynomial regression without changing the regression model. All we need to do is to transform the input and keep the linear regression model. The transformation of the input is performed by the `fit_transform` method of the `PolynomialFeatures` package.\n",
    "\n",
    "First, we can reuse the code from Exercise 2.03 and import `PolynomialFeatures` from the `preprocessing` module of `sklearn`:"
   ]
  },
  {
   "cell_type": "code",
   "execution_count": 59,
   "metadata": {},
   "outputs": [],
   "source": [
    "import quandl\n",
    "import numpy as np\n",
    "from sklearn import preprocessing\n",
    "from sklearn import model_selection\n",
    "from sklearn import linear_model\n",
    "import matplotlib.pyplot as plt\n",
    "from sklearn.preprocessing import PolynomialFeatures\n",
    "\n",
    "quandl.ApiConfig.api_key = \"6kRfVHexH6wxY9PPLGsG\"\n",
    "\n",
    "data_frame = quandl.get(\"YALE/SPCOMP\", start_date=\"1950-01-01\", end_date=\"2019-12-31\")\n",
    "data_frame = data_frame[['Long Interest Rate', 'Real Price', 'Real Dividend']]\n",
    "data_frame.fillna(method='ffill', inplace=True)\n",
    "data_frame['Real Price Label'] = data_frame['Real Price'].shift(-3)\n",
    "features = np.array(data_frame.drop('Real Price Label', 1))\n",
    "scaled_features = preprocessing.scale(features)\n",
    "scaled_features_latest_3 = scaled_features[-3:]\n",
    "scaled_features = scaled_features[:-3]\n",
    "data_frame.dropna(inplace=True)\n",
    "label = np.array(data_frame['Real Price Label'])"
   ]
  },
  {
   "cell_type": "markdown",
   "metadata": {},
   "source": [
    "Now, we can create a polynomial regression of degree 3 using the `fit_transform` method of `PolynomialFeatures`:"
   ]
  },
  {
   "cell_type": "code",
   "execution_count": 60,
   "metadata": {},
   "outputs": [
    {
     "data": {
      "text/plain": [
       "array([[ 1.        , -1.14834808, -1.13030753, ..., -1.52219501,\n",
       "        -1.60454063, -1.69134088],\n",
       "       [ 1.        , -1.14109376, -1.12504171, ..., -1.49305375,\n",
       "        -1.56547095, -1.64140058],\n",
       "       [ 1.        , -1.13383944, -1.12398084, ..., -1.48269439,\n",
       "        -1.54819824, -1.61659598],\n",
       "       ...,\n",
       "       [ 1.        , -1.38861121,  2.97929738, ..., 31.69888394,\n",
       "        37.99674356, 45.5458471 ],\n",
       "       [ 1.        , -1.38861121,  2.83538088, ..., 29.04510391,\n",
       "        37.00936633, 47.15745554],\n",
       "       [ 1.        , -1.36423669,  2.95570629, ..., 31.88115373,\n",
       "        39.36264113, 48.5997944 ]])"
      ]
     },
     "execution_count": 60,
     "metadata": {},
     "output_type": "execute_result"
    }
   ],
   "source": [
    "poly_regressor = PolynomialFeatures(degree=3)\n",
    "poly_scaled_features = poly_regressor.fit_transform(scaled_features)\n",
    "poly_scaled_features"
   ]
  },
  {
   "cell_type": "markdown",
   "metadata": {},
   "source": [
    "Then, we need to split the data into testing and training sets:"
   ]
  },
  {
   "cell_type": "code",
   "execution_count": 61,
   "metadata": {},
   "outputs": [],
   "source": [
    "(poly_features_train, poly_features_test, poly_label_train, poly_label_test) = model_selection.train_test_split(poly_scaled_features,\n",
    "                                                                                                               label,\n",
    "                                                                                                               test_size=0.1,\n",
    "                                                                                                               random_state=8)"
   ]
  },
  {
   "cell_type": "markdown",
   "metadata": {},
   "source": [
    "The `train_test_split` function shuffles the lines of our data, keeps the correspondence, and puts approximately 10% of all data in the test variables, keeping 90% for the training variables. We also use `random_state=8` in order to reproduce the results.\n",
    "\n",
    "Our data is now ready to be used for the multiple polynomial regression model; we will also measure its performance with the `score` function:"
   ]
  },
  {
   "cell_type": "code",
   "execution_count": 62,
   "metadata": {},
   "outputs": [
    {
     "data": {
      "text/plain": [
       "0.9879690504907223"
      ]
     },
     "execution_count": 62,
     "metadata": {},
     "output_type": "execute_result"
    }
   ],
   "source": [
    "model = linear_model.LinearRegression()\n",
    "model.fit(poly_features_train, poly_label_train)\n",
    "model.score(poly_features_test, poly_label_test)"
   ]
  },
  {
   "cell_type": "markdown",
   "metadata": {},
   "source": [
    "With a score or $R^2$ of $0.987$, our multiple polynomial regression model is slightly better than our multiple linear regression model $(0.985)$, which we built in Exercise 2.03. It might be possible that both models are overfitting the dataset.\n",
    "\n",
    "---"
   ]
  },
  {
   "cell_type": "markdown",
   "metadata": {},
   "source": [
    "## Support Vector Regression\n",
    "\n",
    "SVMs are binary classifiers and are usually used in classification problems (you will learn more later). An SVM classifier takes data and tries to predict which class it belongs to. Once the classification of a data point is determined, it gets labeled. But SVMs can also be used for regression; that is, instead of labeling data, it can predict future values in a series.\n",
    "\n",
    "The SVR model uses the space between our data as a margin of error. Based on the margin of error, it makes predictions regarding future values.\n",
    "\n",
    "If the margin of error is too small, we risk overfitting the existing dataset. If the margin of error is too big, we risk underfitting the existing dataset.\n",
    "\n",
    "In the case of a classifier, the kernel describes the surface dividing the state space, whereas, in a regression, the kernel measures the margin of error. This kernel can use a linear model, a polynomial model, or many other possible models. The default kernel is **RBF**, which stands for **Radial Basis Function**.\n",
    "\n",
    "SVR is an advanced topic that is outside the scope of this book. Therefore, we will only stick to an easy walk-through as an opportunity to try out another regression model on our data.\n",
    "\n",
    "We can reuse the code from Exercise 2.03,up to Step 11:"
   ]
  },
  {
   "cell_type": "code",
   "execution_count": 63,
   "metadata": {},
   "outputs": [],
   "source": [
    "import quandl\n",
    "import numpy as np\n",
    "from sklearn import preprocessing\n",
    "from sklearn import model_selection\n",
    "from sklearn import linear_model\n",
    "import matplotlib.pyplot as plt\n",
    "from sklearn.preprocessing import PolynomialFeatures\n",
    "\n",
    "quandl.ApiConfig.api_key = \"6kRfVHexH6wxY9PPLGsG\"\n",
    "\n",
    "data_frame = quandl.get(\"YALE/SPCOMP\", start_date=\"1950-01-01\", end_date=\"2019-12-31\")\n",
    "data_frame = data_frame[['Long Interest Rate', 'Real Price', 'Real Dividend']]\n",
    "data_frame.fillna(method='ffill', inplace=True)\n",
    "data_frame['Real Price Label'] = data_frame['Real Price'].shift(-3)\n",
    "features = np.array(data_frame.drop('Real Price Label', 1))\n",
    "scaled_features = preprocessing.scale(features)\n",
    "scaled_features_latest_3 = scaled_features[-3:]\n",
    "scaled_features = scaled_features[:-3]\n",
    "data_frame.dropna(inplace=True)\n",
    "label = np.array(data_frame['Real Price Label'])\n",
    "(features_train, features_test, label_train, label_test) = model_selection.train_test_split(scaled_features, label, test_size=0.1, random_state=8)"
   ]
  },
  {
   "cell_type": "markdown",
   "metadata": {},
   "source": [
    "Then, we can perform a regression with `svm` by simply changing the linear model to a support vector model by using the `svm` method from `sklearn`:"
   ]
  },
  {
   "cell_type": "code",
   "execution_count": 64,
   "metadata": {},
   "outputs": [
    {
     "data": {
      "text/plain": [
       "SVR()"
      ]
     },
     "execution_count": 64,
     "metadata": {},
     "output_type": "execute_result"
    }
   ],
   "source": [
    "from sklearn import svm\n",
    "\n",
    "model = svm.SVR()\n",
    "model.fit(features_train, label_train)"
   ]
  },
  {
   "cell_type": "markdown",
   "metadata": {},
   "source": [
    "As you can see, performing an SVR is exactly the same as performing a linear regression, with the exception of defining the model as `svm.SVR()`.\n",
    "\n",
    "Finally, we can predict and measure the performance of our model:"
   ]
  },
  {
   "cell_type": "code",
   "execution_count": 65,
   "metadata": {},
   "outputs": [
    {
     "data": {
      "text/plain": [
       "0.02899197278597132"
      ]
     },
     "execution_count": 65,
     "metadata": {},
     "output_type": "execute_result"
    }
   ],
   "source": [
    "label_predicted = model.predict(features_test)\n",
    "model.score(features_test, label_test)"
   ]
  },
  {
   "cell_type": "markdown",
   "metadata": {},
   "source": [
    "As you can see, the score or $R^2$ is quite low, our SVR's parameters need to be optimized in order to increase the accuracy of the model."
   ]
  },
  {
   "cell_type": "markdown",
   "metadata": {},
   "source": [
    "## Support Vector Machines with a 3-Degree Polynomial Kernel\n",
    "\n",
    "Let's switch the kernel of the SVM to a polynomial function (the default degree is `3`) and measure the performance of the new model:"
   ]
  },
  {
   "cell_type": "code",
   "execution_count": 66,
   "metadata": {},
   "outputs": [
    {
     "data": {
      "text/plain": [
       "0.44430077658714306"
      ]
     },
     "execution_count": 66,
     "metadata": {},
     "output_type": "execute_result"
    }
   ],
   "source": [
    "model = svm.SVR(kernel='poly')\n",
    "model.fit(features_train, label_train)\n",
    "label_predicted = model.predict(features_test)\n",
    "model.score(features_test, label_test)"
   ]
  },
  {
   "cell_type": "markdown",
   "metadata": {},
   "source": [
    "We managed to increase the performance of the SVM by simply changing the kernel function to a polynomial function; however, the model still needs a lot of tuning to reach the same performance as the linear regression models."
   ]
  },
  {
   "cell_type": "code",
   "execution_count": null,
   "metadata": {},
   "outputs": [],
   "source": []
  }
 ],
 "metadata": {
  "kernelspec": {
   "display_name": "Python 3",
   "language": "python",
   "name": "python3"
  },
  "language_info": {
   "codemirror_mode": {
    "name": "ipython",
    "version": 3
   },
   "file_extension": ".py",
   "mimetype": "text/x-python",
   "name": "python",
   "nbconvert_exporter": "python",
   "pygments_lexer": "ipython3",
   "version": "3.8.5"
  }
 },
 "nbformat": 4,
 "nbformat_minor": 4
}
