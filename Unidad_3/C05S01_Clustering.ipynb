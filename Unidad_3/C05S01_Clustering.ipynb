{
 "cells": [
  {
   "cell_type": "markdown",
   "metadata": {},
   "source": [
    "# Artificial Intelligence: Clustering\n",
    "\n",
    "This section will introduce you to the fundamentals of clustering, an unsupervised learning approach in contrast with the supervised learning approaches seen in the previous chapters. You will be implementing different types of clustering, including flat clustering with the k-means algorithm and hierarchical clustering with the mean shift algorithm and the agglomerative hierarchical model. You will also learn how to evaluate the performance of your clustering model using intrinsic and extrinsic approaches. By the end, you will be able to analyze data using clustering and apply this skill to solve challenges across a variety of fields."
   ]
  },
  {
   "cell_type": "markdown",
   "metadata": {},
   "source": [
    "## Introduction\n",
    "\n",
    "Previously, you were introduced to decision trees and their applications in classification. You were also introduced to regression. Both regression and classification are part of the supervised learning approach. However, in this section, we will be looking at the unsupervised learning approach; we will be dealing with datasets that don't have any labels (outputs). It is up to the machines to tell us what the labels will be based on a set of parameters that we define. We will be performing unsupervised learning by using clustering algorithms.\n",
    "\n",
    "We will use clustering to analyze data to find certain patterns and create groups. Apart from that, clustering can be used for many purposes:\n",
    "\n",
    "  * Market segmentation detects the best stocks in the market you should be focusing on.\n",
    "  * Customer segmentation detects customer cohorts using their consumption patterns to recommend products better.\n",
    "  * In computer vision, image segmentation is performed using clustering. Using this, we can find different objects in an image.\n",
    "  * Clustering can be also be combined with classification to generate a compact representation of multiple features (inputs), which can then be fed to a classifier.\n",
    "  * Clustering can also filter data points by detecting outliers.\n",
    "  \n",
    "Regardless of whether we are applying clustering to genetics, videos, images, or social networks, if we analyze data using clustering, we may find similarities between data points that are worth treating uniformly.\n",
    "\n",
    "For instance, consider a store manager, who is responsible for ensuring the profitability of their store. The products in the store are divided into different categories, and there are different customers who prefer different items. Each customer has their own preferences, but they have some similarities between them. You might have a customer who is interested in bio products, who tends to choose organic products, which are also of interest to a vegetarian customer. Even if they are different, they have similarities in their preferences or patterns as they both tend to buy organic vegetables. This can be treated as an example of clustering.\n",
    "\n",
    "In the section *\"An Introduction to Classification\"*, you learned about classification, which is a part of the supervised learning approach. In a classification problem, we use labels to train a model in order to be able to classify data points. With clustering, as we do not have labels for our features, we need to let the model figure out the clusters to which these features belong. This is usually based on the distance between each data point.\n",
    "\n",
    "In this chapter, you will learn about the k-means algorithm, which is the most widely used algorithm for clustering, but first, we need to define what the clustering problem is.\n",
    "\n",
    "---"
   ]
  },
  {
   "cell_type": "markdown",
   "metadata": {},
   "source": [
    "## Defining the Clustering Problem\n",
    "\n",
    "We shall define the clustering problem so that we will be able to find similarities between our data points. For instance, suppose we have a dataset that consists of points. Clustering helps us understand this structure by describing how these points are distributed.\n",
    "\n",
    "Let's look at an example of data points in a two-dimensional space in Figure 5.1:\n",
    "\n",
    "![Figure 5.1](img/fig5_01.jpg)\n",
    "\n",
    "Now, have a look, at Figure 5.2. It is evident that there are three clusters:\n",
    "\n",
    "![Figure 5.2](img/fig5_02.jpg)\n",
    "\n",
    "The three clusters were easy to detect because the points are close to one another. Here, you can see that clustering determines the data points that are close to each other. You may have also noticed that the data points $M_1$, $O_1$, and $N_1$ do not belong to any cluster; these are the **outlier points**. The clustering algorithm you build should be prepared to treat these outlier points properly, without moving them into a cluster.\n",
    "\n",
    "While it is easy to recognize clusters in a two-dimensional space, we normally have multidimensional data points, which is where we have more than two features. Therefore, it is important to know which data points are close to one other. Also, it is important to define the distance metrics that detect whether data points are close to each other. One well-known distance metric is Euclidean distance, which we learned about in *Introduction to Artificial Intelligence*. In mathematics, we often use Euclidean distance to measure the distance between two points. Therefore, Euclidean distance is an intuitive choice when it comes to clustering algorithms so that we can determine the proximity of data points when locating clusters.\n",
    "\n",
    "However, there is one drawback to most distance metrics, including Euclidean distance: the more we increase the dimensions, the more uniform these distances will become compared to each other. When we only have a few dimensions or features, it is easy to see which point is the closest to another one. However, when we add more features, the relevant features get embedded with all the other data and it becomes very hard to distinguish the relevant features from the others as they act as noise for our model. Therefore, getting rid of these noisy features may greatly increase the accuracy of our clustering model.\n",
    "\n",
    "  > Noise in a dataset can be irrelevant information or randomness that is unwanted.\n",
    "\n",
    "---"
   ]
  },
  {
   "cell_type": "markdown",
   "metadata": {},
   "source": [
    "# Clustering Approaches\n",
    "\n",
    "There are two types of clustering:\n",
    "\n",
    "  * Flat\n",
    "  * Hierarchical\n",
    "  \n",
    "In flat clustering, we specify the number of clusters we would like the machine to find. One example of flat clustering is the k-means algorithm, where k specifies the number of clusters we would like the algorithm to use.\n",
    "\n",
    "In hierarchical clustering, however, the machine learning algorithm itself finds out the number of clusters that are needed.\n",
    "\n",
    "Hierarchical clustering also has two approaches:\n",
    "\n",
    "  * **Agglomerative or bottom-up hierarchical clustering** treats each point as a cluster to begin with. Then, the closest clusters are grouped together. The grouping is repeated until we reach a single cluster with every data point.\n",
    "  * **Divisive or top-down hierarchical clustering** treats data points as if they were all in one single cluster at the start. Then the cluster is divided into smaller clusters by choosing the furthest data points. The splitting is repeated until each data point becomes its own cluster.\n",
    "  \n",
    "Figure 5.3 gives you a much more accurate description of these two clustering approaches.\n",
    "\n",
    "![Figure 5.3](img/fig5_03.jpg)\n",
    "\n",
    "Now that we are familiar with the different clustering approaches, let's take a look at the different clustering algorithms supported by scikit-learn."
   ]
  },
  {
   "cell_type": "markdown",
   "metadata": {},
   "source": [
    "## Clustering Algorithms Supported by scikit-learn\n",
    "\n",
    "In this section, we will learn about two clustering algorithms supported by scikit-learn:\n",
    "\n",
    "  * The k-means algorithm\n",
    "  * The mean shift algorithm\n",
    "  \n",
    "**K-means** is an example of flat clustering, where we must specify the number of clusters in advance. k-means is a general-purpose clustering algorithm that performs well if the number of clusters is not too high and the size of the clusters is uniform.\n",
    "\n",
    "**Mean shift** is an example of hierarchical clustering, where the clustering algorithm determines the number of clusters. Mean shift is used when we do not know the number of clusters in advance. In contrast with k-means, mean shift supports use cases where there may be many clusters present, even if the size of the clusters greatly varies.\n",
    "\n",
    "Scikit-learn contains many other algorithms, but we will be focusing on the k-means and mean shift algorithms.\n",
    "\n",
    "  > For a complete description of clustering algorithms, including performance comparisons, visit the clustering page of scikit-learn at [http://scikit-learn.org/stable/modules/clustering.html](http://scikit-learn.org/stable/modules/clustering.html)"
   ]
  },
  {
   "cell_type": "markdown",
   "metadata": {},
   "source": [
    "## The K-Means Algorithm\n",
    "\n",
    "The k-means algorithm is a flat clustering algorithm, as mentioned previously. It works as follows:\n",
    "\n",
    "  * Set the value of $k$.\n",
    "  * Choose $k$ data points from the dataset that are the initial centers of the individual clusters.\n",
    "  * Calculate the distance from each data point to the chosen center points and group each point in the cluster whose initial center is the closest to the data point.\n",
    "  * Once all the points are in one of the k clusters, calculate the center point of each cluster. This center point does not have to be an existing data point in the dataset; it is simply an average.\n",
    "  * Repeat this process of assigning each data point to the cluster whose center is closest to the data point. Repetition continues until the center points no longer move.\n",
    "  \n",
    "To ensure that the k-means algorithm terminates, we need the following:\n",
    "\n",
    "  * A maximum threshold value at which the algorithm will then terminate\n",
    "  * A maximum number of repetitions of shifting the moving points\n",
    "  \n",
    "Due to the nature of the k-means algorithm, it will have a hard time dealing with clusters that greatly vary in size.\n",
    "\n",
    "The k-means algorithm has many use cases that are part of our everyday lives, such as:\n",
    "\n",
    "  * **Market segmentation**: Companies gather all sorts of data on their customers. Performing k-means clustering analysis on their customers will reveal customer segments (clusters) with defined characteristics. Customers belonging to the same segment can be seen as having similar patterns or preferences.\n",
    "  * **Tagging of content**: Any content (videos, books, documents, movies, or photos) can be assigned tags in order to group together similar content or themes. These tags are the result of clustering.\n",
    "  * **Detection of fraud and criminal activities**: Fraudsters often leave clues in the form of unusual behaviors compared to other customers. For instance, in the car insurance industry, a normal customer will make a claim for a damaged car arising from an incident, whereas fraudsters will make claims for deliberate damage. Clustering can help detect whether the damage has arisen from a real accident or from a fake accident.\n",
    "  \n",
    "**Go to Exercise 5.01**"
   ]
  },
  {
   "cell_type": "markdown",
   "metadata": {},
   "source": [
    "## The Parameterization of the K-Means Algorithm in scikit-learn\n",
    "\n",
    "Like the classification and regression models, the k-means algorithm from scikit-learn can also be parameterized. The complete list of parameters can be found at [http://scikit-learn.org/stable/modules/generated/sklearn.cluster.KMeans.html](http://scikit-learn.org/stable/modules/generated/sklearn.cluster.KMeans.html).\n",
    "\n",
    "Some examples are as follows:\n",
    "\n",
    "  * `n_clusters`: The number of clusters into which the data points are separated. The default value is 8.\n",
    "  * `max_iter`: The maximum number of iterations.\n",
    "  * `tol`: The threshold for checking whether we can terminate the k-means algorithm.\n",
    "  \n",
    "We also used two attributes to retrieve the cluster center points and the clusters themselves:\n",
    "\n",
    "  * `cluster_centers_`: This returns the coordinates of the cluster center points.\n",
    "  * `labels_`: This returns an array of integers representing the number of clusters the data point belongs to. Numbering starts from zero.\n",
    "  \n",
    "**Go to Exercise 5.02**\n",
    "\n",
    "---"
   ]
  },
  {
   "cell_type": "markdown",
   "metadata": {},
   "source": [
    "# The Mean Shift Algorithm\n",
    "\n",
    "Mean shift is a hierarchical clustering algorithm that assigns data points to a cluster by calculating a cluster's center and moving it towards the mode at each iteration. The mode is the area with the most data points. At the first iteration, a random point will be chosen as the cluster's center and then the algorithm will calculate the mean of all nearby data points within a certain radius. The mean will be the new cluster's center. The second iteration will then begin with the calculation of the mean of all nearby data points and setting it as the new cluster's center. At each iteration, the cluster's center will move closer to where most of the data points are. The algorithm will stop when it is not possible for a new cluster's center to contain more data points. When the algorithm stops, each data point will be assigned to a cluster.\n",
    "\n",
    "The mean shift algorithm will also determine the number of clusters needed, in contrast with the k-means algorithm. This is advantageous as we rarely know how many clusters we are looking for.\n",
    "\n",
    "This algorithm also has many use cases. For instance, the Xbox Kinect device detects human body parts using the mean shift algorithm. Each main body part (head, arms, legs, hands, and so on) is a cluster of data points assigned by the mean shift algorithm.\n",
    "\n",
    "**Go to Exercise 5.03**"
   ]
  },
  {
   "cell_type": "markdown",
   "metadata": {},
   "source": [
    "This was a simple clustering example that applied the mean shift algorithm. We only illustrated what the algorithm considers when finding clusters.\n",
    "\n",
    "However, there is still one question, and that is what will the value of the radius be?\n",
    "\n",
    "Note that if the radius of 2 was not set, we could simply start either with a huge radius that includes all data points and then reduce the radius, or we could start with a tiny radius, making sure that each data point is in its cluster, and then increase the radius until we get the desired result.\n",
    "\n",
    "In the next section, we will be looking at the mean shift algorithm but using scikit-learn."
   ]
  },
  {
   "cell_type": "markdown",
   "metadata": {},
   "source": [
    "## The Mean Shift Algorithm in scikit-learn\n",
    "\n",
    "Let's use the same data points we used with the k-means algorithm:"
   ]
  },
  {
   "cell_type": "code",
   "execution_count": 1,
   "metadata": {},
   "outputs": [],
   "source": [
    "import numpy as np\n",
    "\n",
    "data_points = np.array([[1, 1], [1, 1.5], [2, 2],\n",
    "                        [8, 1], [8, 0], [8.5, 1],\n",
    "                        [6, 1], [1, 10], [1.5, 10],\n",
    "                        [1.5, 9.5], [10, 10], [1.5, 8.5]])"
   ]
  },
  {
   "cell_type": "markdown",
   "metadata": {},
   "source": [
    "The syntax of the mean shift clustering algorithm is like the syntax for the k-means clustering algorithm:"
   ]
  },
  {
   "cell_type": "code",
   "execution_count": 3,
   "metadata": {},
   "outputs": [
    {
     "data": {
      "text/plain": [
       "MeanShift()"
      ]
     },
     "execution_count": 3,
     "metadata": {},
     "output_type": "execute_result"
    }
   ],
   "source": [
    "from sklearn.cluster import MeanShift\n",
    "\n",
    "mean_shift_model = MeanShift()\n",
    "mean_shift_model.fit(data_points)"
   ]
  },
  {
   "cell_type": "markdown",
   "metadata": {},
   "source": [
    "Once the clustering is done, we can access the center point of each cluster:"
   ]
  },
  {
   "cell_type": "code",
   "execution_count": 4,
   "metadata": {},
   "outputs": [
    {
     "data": {
      "text/plain": [
       "array([[ 1.375     ,  9.5       ],\n",
       "       [ 8.16666667,  0.66666667],\n",
       "       [ 1.33333333,  1.5       ],\n",
       "       [10.        , 10.        ],\n",
       "       [ 6.        ,  1.        ]])"
      ]
     },
     "execution_count": 4,
     "metadata": {},
     "output_type": "execute_result"
    }
   ],
   "source": [
    "mean_shift_model.cluster_centers_"
   ]
  },
  {
   "cell_type": "markdown",
   "metadata": {},
   "source": [
    "The mean shift model found five clusters with the centers shown in the preceding code.\n",
    "\n",
    "Like k-means, we can also get the labels:"
   ]
  },
  {
   "cell_type": "code",
   "execution_count": 5,
   "metadata": {},
   "outputs": [
    {
     "data": {
      "text/plain": [
       "array([2, 2, 2, 1, 1, 1, 4, 0, 0, 0, 3, 0])"
      ]
     },
     "execution_count": 5,
     "metadata": {},
     "output_type": "execute_result"
    }
   ],
   "source": [
    "mean_shift_model.labels_"
   ]
  },
  {
   "cell_type": "markdown",
   "metadata": {},
   "source": [
    "The output array shows which data point belongs to which cluster. This is all we need to plot the data:"
   ]
  },
  {
   "cell_type": "code",
   "execution_count": 7,
   "metadata": {},
   "outputs": [
    {
     "data": {
      "image/png": "[encoded data removed]",
      "text/plain": [
       "<Figure size 432x288 with 1 Axes>"
      ]
     },
     "metadata": {
      "needs_background": "light"
     },
     "output_type": "display_data"
    }
   ],
   "source": [
    "import matplotlib.pyplot as plt\n",
    "\n",
    "plt.scatter(mean_shift_model.cluster_centers_[:, 0],\n",
    "           mean_shift_model.cluster_centers_[:, 1])\n",
    "\n",
    "for i in range(len(data_points)):\n",
    "    plt.plot(data_points[i][0], data_points[i][1],\n",
    "            ['k+', 'kx', 'kv', 'k_', 'k1'][mean_shift_model.labels_[i]])\n",
    "    \n",
    "plt.show()"
   ]
  },
  {
   "cell_type": "markdown",
   "metadata": {},
   "source": [
    "In the preceding code snippet, we made a plot of the data points and the centers of the five clusters. Each data point belonging to the same cluster will have the same marker. The cluster centers are marked as a dot.\n",
    "\n",
    "We can see that three clusters contain more than a single dot (the top left, the bottom left, and the bottom right). The two single data points that are also their own cluster can be seen as outliers, as mentioned previously, as they are too far from the other clusters to be part of any of them.\n",
    "\n",
    "Now that we have learned about the mean shift algorithm, we can have look at hierarchical clustering, and more specifically at agglomerative hierarchical clustering (the bottom-up approach)."
   ]
  },
  {
   "cell_type": "markdown",
   "metadata": {},
   "source": [
    "## Hierarchical Clustering\n",
    "\n",
    "Hierarchical clustering algorithms fall into two categories:\n",
    "\n",
    "  * Agglomerative (or bottom-up) hierarchical clustering\n",
    "  * Divisive (or top-down) hierarchical clustering\n",
    "  \n",
    "We will only talk about agglomerative hierarchical clustering in this chapter, as it is the most widely used and most efficient of the two approaches.\n",
    "\n",
    "Agglomerative hierarchical clustering treats each data point as a single cluster in the beginning and then successively merges (or agglomerates) the closest clusters together in pairs. In order to find the closest data clusters, agglomerative hierarchical clustering uses a heuristic such as the Euclidean or Manhattan distance to define the distance between data points. A linkage function will also be required to aggregate the distance between data points in clusters in order to define a unique value of the closeness of clusters.\n",
    "\n",
    "Examples of linkage functions include single linkage (simple distance), average linkage (average distance), maximum linkage (maximum distance), and Ward linkage (square difference). The pairs of clusters with the smallest value of linkage will be grouped together. The grouping is repeated until we reach a single cluster containing every data point. In the end, this algorithm terminates when there is only a single cluster left.\n",
    "\n",
    "In order to visually represent the hierarchy of clusters, a dendrogram can be used. A dendrogram is a tree where the leaves at the bottom represent data points. Each intersection between two leaves is the grouping of these two leaves. The root (top) represents a unique cluster that contains all the data points. Have a look at Figure 5.10, which represents a dendrogram.\n",
    "\n",
    "![Figuree 5.10](img/fig5_10.jpg)\n",
    "\n",
    "---"
   ]
  },
  {
   "cell_type": "markdown",
   "metadata": {},
   "source": [
    "# Agglomerative Hierarchical Clustering in scikit-learn\n",
    "\n",
    "Have a look at the following example, where we use the same data points as we used with the k-means algorithm:"
   ]
  },
  {
   "cell_type": "code",
   "execution_count": 8,
   "metadata": {},
   "outputs": [],
   "source": [
    "import numpy as np\n",
    "\n",
    "data_points = np.array([[1, 1], [1, 1.5], [2, 2],\n",
    "                        [8, 1], [8, 0], [8.5, 1],\n",
    "                        [6, 1], [1, 10], [1.5, 10],\n",
    "                        [1.5, 9.5], [10, 10], [1.5, 8.5]])"
   ]
  },
  {
   "cell_type": "markdown",
   "metadata": {},
   "source": [
    "In order to plot a dendrogram, we need to first import the `scipy` library:"
   ]
  },
  {
   "cell_type": "code",
   "execution_count": 9,
   "metadata": {},
   "outputs": [],
   "source": [
    "from scipy.cluster.hierarchy import dendrogram\n",
    "import scipy.cluster.hierarchy as sch"
   ]
  },
  {
   "cell_type": "markdown",
   "metadata": {},
   "source": [
    "Then we can plot a dendrogram using SciPy with the `ward` linkage function, as it is the most commonly used linkage function:"
   ]
  },
  {
   "cell_type": "code",
   "execution_count": 10,
   "metadata": {},
   "outputs": [
    {
     "data": {
      "image/png": "[encoded data removed]",
      "text/plain": [
       "<Figure size 432x288 with 1 Axes>"
      ]
     },
     "metadata": {
      "needs_background": "light"
     },
     "output_type": "display_data"
    }
   ],
   "source": [
    "dendrogram = sch.dendrogram(sch.linkage(data_points, method='ward'))"
   ]
  },
  {
   "cell_type": "markdown",
   "metadata": {},
   "source": [
    "With the dendrogram, we can generally guess what will be a good number of clusters by simply drawing a horizontal line as shown in Figure 5.12, in the area with the highest vertical distance, and counting the number of intersections. In this case, it should be two clusters, but we will go to the next biggest area as two is too small a number.\n",
    "\n",
    "![Figure 5.12](img/fig5_12.jpg)"
   ]
  },
  {
   "cell_type": "markdown",
   "metadata": {},
   "source": [
    "The y axis represents the measure of closeness, and the x axis represents the index of each data point. So our first three data points (0,1,2) are parts of the same cluster, then another cluster is made of the next four points (3,4,5,6), data point 10 is a cluster on its own, and the remaining data points (7,8,9,11) form the last cluster.\n",
    "\n",
    "The syntax of the agglomerative hierarchical clustering algorithm is similar to the k-means clustering algorithm except that we need to specify the number type of `affinity` (here, we choose the Euclidean distance) and the linkage (here, we choose the ward linkage):"
   ]
  },
  {
   "cell_type": "code",
   "execution_count": 11,
   "metadata": {},
   "outputs": [
    {
     "data": {
      "text/plain": [
       "AgglomerativeClustering(n_clusters=4)"
      ]
     },
     "execution_count": 11,
     "metadata": {},
     "output_type": "execute_result"
    }
   ],
   "source": [
    "from sklearn.cluster import AgglomerativeClustering\n",
    "\n",
    "agglomerative_model = AgglomerativeClustering(n_clusters=4,\n",
    "                                             affinity='euclidean',\n",
    "                                             linkage='ward')\n",
    "agglomerative_model.fit(data_points)"
   ]
  },
  {
   "cell_type": "markdown",
   "metadata": {},
   "source": [
    "Similar to k-means, we can also get the labels as shown in the following code snippet:"
   ]
  },
  {
   "cell_type": "code",
   "execution_count": 12,
   "metadata": {},
   "outputs": [
    {
     "data": {
      "text/plain": [
       "array([2, 2, 2, 0, 0, 0, 0, 1, 1, 1, 3, 1])"
      ]
     },
     "execution_count": 12,
     "metadata": {},
     "output_type": "execute_result"
    }
   ],
   "source": [
    "agglomerative_model.labels_"
   ]
  },
  {
   "cell_type": "markdown",
   "metadata": {},
   "source": [
    "The output array shows which data point belongs to which cluster. This is all we need to plot the data:"
   ]
  },
  {
   "cell_type": "code",
   "execution_count": 13,
   "metadata": {},
   "outputs": [
    {
     "data": {
      "image/png": "[encoded data removed]",
      "text/plain": [
       "<Figure size 432x288 with 1 Axes>"
      ]
     },
     "metadata": {
      "needs_background": "light"
     },
     "output_type": "display_data"
    }
   ],
   "source": [
    "import matplotlib.pyplot as plt\n",
    "\n",
    "for i in range(len(data_points)):\n",
    "    plt.plot(data_points[i][0], data_points[i][1],\n",
    "            ['k+', 'kx', 'kv', 'k_'][agglomerative_model.labels_[i]])\n",
    "plt.show()"
   ]
  },
  {
   "cell_type": "markdown",
   "metadata": {},
   "source": [
    "We can see that, in contrast with the result from the mean shift method, agglomerative clustering was able to properly group the data point at (6,1) with the bottom-right cluster instead of having his own cluster. In situations like this one, where we have a very small amount of data, agglomerative hierarchical clustering and mean shift will work better than k-means. However, they have very expensive computational time requirements, which will make them struggle on very large datasets. However, k-means is very fast and is a better choice for very large datasets.\n",
    "\n",
    "Now that we have learned about a few different clustering algorithms, we need to start evaluating these models and comparing them in order to choose the best model for clustering."
   ]
  },
  {
   "cell_type": "markdown",
   "metadata": {},
   "source": [
    "# Clustering Performance Evaluation\n",
    "\n",
    "Unlike supervised learning, where we always have the labels to evaluate our predictions with, unsupervised learning is a bit more complex as we do not usually have labels. In order to evaluate a clustering model, two approaches can be taken depending on whether the label data is available or not:\n",
    "\n",
    "  * The first approach is the extrinsic method, which requires the existence of label data. This means that in absence of label data, human intervention is required in order to label the data or at least a subset of it.\n",
    "  * The other approach is the intrinsic approach. In general, the extrinsic approach tries to assign a score to clustering, given the label data, whereas the intrinsic approach evaluates clustering by examining how well the clusters are separated and how compact they are.\n",
    "  \n",
    "  > We will skip the mathematical explanations as they are quite complicated. You can find more mathematical details on the sklearn website at [this URL](https://scikit-learn.org/stable/modules/clustering.html#clustering-performance-evaluation)\n",
    "\n",
    "We will begin with the extrinsic approach (as it is the most widely used method) and define the following scores using sklearn on our k-means example:\n",
    "\n",
    "  * The adjusted Rand index\n",
    "  * The adjusted mutual information\n",
    "  * The homogeneity\n",
    "  * The completeness\n",
    "  * The V-Measure\n",
    "  * The Fowlkes-Mallows score\n",
    "  * The contingency matrix\n",
    "  \n",
    "Let's have a look at an example in which we first need to import the `metrics` module from `sklearn.cluster`:"
   ]
  },
  {
   "cell_type": "code",
   "execution_count": 1,
   "metadata": {},
   "outputs": [],
   "source": [
    "from sklearn import metrics"
   ]
  },
  {
   "cell_type": "markdown",
   "metadata": {},
   "source": [
    "We will be reusing the code from our k-means example in Exercise 5.01"
   ]
  },
  {
   "cell_type": "code",
   "execution_count": 2,
   "metadata": {},
   "outputs": [
    {
     "data": {
      "text/plain": [
       "array([2, 2, 2, 0, 0, 0, 0, 1, 1, 1, 1, 1], dtype=int32)"
      ]
     },
     "execution_count": 2,
     "metadata": {},
     "output_type": "execute_result"
    }
   ],
   "source": [
    "import numpy as np\n",
    "import matplotlib.pyplot as plt\n",
    "from sklearn.cluster import KMeans\n",
    "\n",
    "data_points = np.array([[1, 1], [1, 1.5], [2, 2],\n",
    "                        [8, 1], [8, 0], [8.5, 1],\n",
    "                        [6, 1], [1, 10], [1.5, 10],\n",
    "                        [1.5, 9.5], [10, 10], [1.5, 8.5]])\n",
    "k_means_model = KMeans(n_clusters=3, random_state=8)\n",
    "k_means_model.fit(data_points)\n",
    "k_means_model.labels_"
   ]
  },
  {
   "cell_type": "markdown",
   "metadata": {},
   "source": [
    "Finally, define the true labels of this dataset, as shown in the following code snippet:"
   ]
  },
  {
   "cell_type": "code",
   "execution_count": 3,
   "metadata": {},
   "outputs": [],
   "source": [
    "data_labels = np.array([0, 0, 0, 2, 2, 2, 2, 1, 1, 1, 3, 1])"
   ]
  },
  {
   "cell_type": "markdown",
   "metadata": {},
   "source": [
    "## The Adjusted Rand Index\n",
    "\n",
    "The adjusted Rand index is a function that measures the similarity between the cluster predictions and the labels while ignoring permutations. The adjusted Rand index works quite well when the labels are large equal-sized clusters.\n",
    "\n",
    "The adjusted Rand index has a range between $[-1.1]$, where negative values are not desirable. A negative score means that our model is performing worse than if we were to randomly assign labels. If we were to randomly assign them, our score would be close to 0. However, the closer we are to 1, the better our clustering model is at predicting the right label.\n",
    "\n",
    "With `sklearn`, we can easily compute the adjusted Rand index by using this code:"
   ]
  },
  {
   "cell_type": "code",
   "execution_count": 4,
   "metadata": {},
   "outputs": [
    {
     "data": {
      "text/plain": [
       "0.8422939068100358"
      ]
     },
     "execution_count": 4,
     "metadata": {},
     "output_type": "execute_result"
    }
   ],
   "source": [
    "metrics.adjusted_rand_score(data_labels, k_means_model.labels_)"
   ]
  },
  {
   "cell_type": "markdown",
   "metadata": {},
   "source": [
    "In this case, the adjusted Rand index indicates that our k-means model is not far from our true labels."
   ]
  },
  {
   "cell_type": "markdown",
   "metadata": {},
   "source": [
    "## The Adjusted Mutual Information\n",
    "\n",
    "The adjusted mutual information is a function that measures the entropy between the cluster predictions and the labels while ignoring permutations.\n",
    "\n",
    "The adjusted mutual information has no defined range, but negative values are considered bad. The closer we are to 1, the better our clustering model is at predicting the right label.\n",
    "\n",
    "With `sklearn`, we can easily compute it by using this code:"
   ]
  },
  {
   "cell_type": "code",
   "execution_count": 6,
   "metadata": {},
   "outputs": [
    {
     "data": {
      "text/plain": [
       "0.8769185235006342"
      ]
     },
     "execution_count": 6,
     "metadata": {},
     "output_type": "execute_result"
    }
   ],
   "source": [
    "metrics.adjusted_mutual_info_score(data_labels, k_means_model.labels_)"
   ]
  },
  {
   "cell_type": "markdown",
   "metadata": {},
   "source": [
    "In this case, the adjusted mutual information indicates that our k-means model is quite good and not far from our true labels."
   ]
  },
  {
   "cell_type": "markdown",
   "metadata": {},
   "source": [
    "## The V-Measure, Homogeneity, and Completeness\n",
    "\n",
    "The V-Measure is defined as the harmonic mean of homogeneity and completeness. The harmonic mean is a type of average (other types are the arithmetic mean and the geometric mean) using reciprocals (a reciprocal is the inverse of a number. For example the reciprocal of 2 is $\\frac{1}{2}$, and the reciprocal of 3 is $\\frac{1}{3}$).\n",
    "\n",
    "The formula of the harmonic mean is as follows:\n",
    "\n",
    "$$\n",
    "\\frac{n}{\\sum{} \\frac{1}{x_i}}\n",
    "$$\n",
    "\n",
    "$n$ is the number of values and $x_i$ 4 is the value of each point.\n",
    "\n",
    "In order to calculate the V-Measure, we first need to define homogeneity and completeness.\n",
    "\n",
    "Perfect homogeneity refers to a situation where each cluster has data points belonging to the same label. The homogeneity score will reflect how well each of our clusters is grouping data from the same label.\n",
    "\n",
    "Perfect completeness refers to the situation where all data points belonging to the same label are clustered into the same cluster. The homogeneity score will reflect how well, for each of our labels, its data points are all grouped inside the same cluster.\n",
    "\n",
    "Hence, the formula of V-Measure is as follows:\n",
    "\n",
    "$$\n",
    "v = \\frac{\\left(1 + \\beta \\right) \\times homogeneity \\times completeness}{\\left( \\beta \\times homogeneity \\times completeness \\right)}\n",
    "$$\n",
    "\n",
    "$\\beta$ has a default value of 1, but it can be changed to further emphasize either homogeneity or completeness.\n",
    "\n",
    "These three scores have a range between $[0,1]$, with 0 being the worst possible score and 1 being the perfect score.\n",
    "\n",
    "With `sklearn`, we can easily compute these three scores by using this code:"
   ]
  },
  {
   "cell_type": "code",
   "execution_count": 7,
   "metadata": {},
   "outputs": [
    {
     "data": {
      "text/plain": [
       "0.8378758055108827"
      ]
     },
     "execution_count": 7,
     "metadata": {},
     "output_type": "execute_result"
    }
   ],
   "source": [
    "metrics.homogeneity_score(data_labels, k_means_model.labels_)"
   ]
  },
  {
   "cell_type": "code",
   "execution_count": 9,
   "metadata": {},
   "outputs": [
    {
     "data": {
      "text/plain": [
       "1.0"
      ]
     },
     "execution_count": 9,
     "metadata": {},
     "output_type": "execute_result"
    }
   ],
   "source": [
    "metrics.completeness_score(data_labels, k_means_model.labels_)"
   ]
  },
  {
   "cell_type": "code",
   "execution_count": 10,
   "metadata": {},
   "outputs": [
    {
     "data": {
      "text/plain": [
       "0.9117871871412709"
      ]
     },
     "execution_count": 10,
     "metadata": {},
     "output_type": "execute_result"
    }
   ],
   "source": [
    "metrics.v_measure_score(data_labels, k_means_model.labels_, beta=1)"
   ]
  },
  {
   "cell_type": "markdown",
   "metadata": {},
   "source": [
    "  * The homogeneity score indicates that our k-means model has clusters containing different labels.\n",
    "  * The completeness score indicates that our k-means model has successfully put every data point of each label inside the same cluster.\n",
    "  * The V-Measure indicates that our k-means model, while not being perfect, has a good score in general."
   ]
  },
  {
   "cell_type": "markdown",
   "metadata": {},
   "source": [
    "## The Fowlkes-Mallows Score\n",
    "\n",
    "The Fowlkes-Mallows score is a metric measuring the similarity within a label cluster and the prediction of the cluster, and this is defined as the geometric mean of the precision and recall.\n",
    "\n",
    "The formula of the Fowlkes-Mallows score is as follows:\n",
    "\n",
    "$$\n",
    "FMI = \\frac{TP}{\\sqrt{\\left(TP + FP \\right) \\left( TP + FN \\right)}}\n",
    "$$\n",
    "\n",
    "Let's break this down:\n",
    "\n",
    "  * True positive (or TP): Are all the observations where the predictions are in the same cluster as the label cluster\n",
    "  * False positive (or FP): Are all the observations where the predictions are in the same cluster but not the same as the label cluster\n",
    "  * False negative (or FN): Are all the observations where the predictions are not in the same cluster but are in the same label cluster\n",
    " \n",
    "The Fowlkes-Mallows score has a range between $[0, 1]$, with 0 being the worst possible score and 1 being the perfect score.\n",
    "\n",
    "With sklearn, we can easily compute it by using this code:"
   ]
  },
  {
   "cell_type": "code",
   "execution_count": 11,
   "metadata": {},
   "outputs": [
    {
     "data": {
      "text/plain": [
       "0.8885233166386386"
      ]
     },
     "execution_count": 11,
     "metadata": {},
     "output_type": "execute_result"
    }
   ],
   "source": [
    "metrics.fowlkes_mallows_score(data_labels, k_means_model.labels_)"
   ]
  },
  {
   "cell_type": "markdown",
   "metadata": {},
   "source": [
    "In this case, the Fowlkes-Mallows score indicates that our k-means model is quite good and not far from our true labels."
   ]
  },
  {
   "cell_type": "markdown",
   "metadata": {},
   "source": [
    "## The Contingency Matrix\n",
    "\n",
    "The contingency matrix is not a score, but it reports the intersection cardinality for every true/predicted cluster pair and the required label data. It is very similar to the Confusion Matrix. The matrix must be the same for the label and cluster name, so we need to be careful to give our cluster the same name as our label, which was not the case with the previously seen scores.\n",
    "\n",
    "We will modify our labels from this:\n",
    "\n",
    "```Python\n",
    "data_labels = np.array([0, 0, 0, 2, 2, 2, 2, 1, 1, 1, 3, 1])\n",
    "```\n",
    "\n",
    "to this"
   ]
  },
  {
   "cell_type": "code",
   "execution_count": 12,
   "metadata": {},
   "outputs": [],
   "source": [
    "data_labels = np.array([2, 2, 2, 1, 1, 1, 1, 0, 0, 0, 3, 0])"
   ]
  },
  {
   "cell_type": "markdown",
   "metadata": {},
   "source": [
    "Then, with `sklearn`, we can easily compute the contingency matrix by using this code:"
   ]
  },
  {
   "cell_type": "code",
   "execution_count": 13,
   "metadata": {},
   "outputs": [
    {
     "data": {
      "text/plain": [
       "array([[0, 4, 0, 0],\n",
       "       [4, 0, 0, 1],\n",
       "       [0, 0, 3, 0]])"
      ]
     },
     "execution_count": 13,
     "metadata": {},
     "output_type": "execute_result"
    }
   ],
   "source": [
    "from sklearn.metrics.cluster import contingency_matrix\n",
    "\n",
    "contingency_matrix(k_means_model.labels_, data_labels)"
   ]
  },
  {
   "cell_type": "markdown",
   "metadata": {},
   "source": [
    "The first row of the `contingency_matrix` output indicates that there are 4 data points whose true cluster is the first cluster (0). The second row indicates that there are also four data points whose true cluster is the second cluster (1); however, an extra 1 was incorrectly predicted in this cluster, but it belongs to the fourth cluster (3). The third row indicates that there are three data points whose true cluster is the third cluster (2).\n",
    "\n",
    "We will now look at the intrinsic approach, which is required when we do not have the label. We will define the following scores using sklearn on our k-means example:\n",
    "\n",
    "  * The Silhouette Coefficient\n",
    "  * The Calinski-Harabasz index\n",
    "  * The Davies-Bouldin index"
   ]
  },
  {
   "cell_type": "markdown",
   "metadata": {},
   "source": [
    "## The Silhouette Coefficient\n",
    "\n",
    "The Silhouette Coefficient is an example of an intrinsic evaluation. It measures the similarity between a data point and its cluster when compared to other clusters.\n",
    "\n",
    "It comprises two scores:\n",
    "\n",
    "  * $a$: The average distance between a data point and all other data points in the same cluster.\n",
    "  * $b$: The average distance between a data point and all the data points in the nearest cluster.\n",
    "  \n",
    "The Silhouette Coefficient formula is:\n",
    "\n",
    "$$\n",
    "S = \\frac{b-a}{\\max{\\left( a, b \\right)}}\n",
    "$$\n",
    "\n",
    "The Silhouette Coefficient has a range between $[-1,1]$, with -1 meaning an incorrect clustering. A score close to zero indicates that our clusters are overlapping. A score close to 1 indicates that all the data points are assigned to the appropriate clusters.\n",
    "\n",
    "Then, with sklearn, we can easily compute the silhouette coefficient by using this code:"
   ]
  },
  {
   "cell_type": "code",
   "execution_count": 14,
   "metadata": {},
   "outputs": [
    {
     "data": {
      "text/plain": [
       "0.6753568188872228"
      ]
     },
     "execution_count": 14,
     "metadata": {},
     "output_type": "execute_result"
    }
   ],
   "source": [
    "metrics.silhouette_score(data_points, k_means_model.labels_)"
   ]
  },
  {
   "cell_type": "markdown",
   "metadata": {},
   "source": [
    "In this case, the Silhouette Coefficient indicates that our k-means model has some overlapping clusters, and some improvements can be made by separating some of the data points from one of the clusters."
   ]
  },
  {
   "cell_type": "markdown",
   "metadata": {},
   "source": [
    "## The Calinski-Harabasz Index\n",
    "\n",
    "The Calinski-Harabasz index measures how the data points inside each cluster are spread. It is defined as the ratio of the variance between clusters and the variance inside each cluster. The Calinski-Harabasz index doesn't have a range and starts from 0. The higher the score is, the denser our clusters are. A dense cluster is an indication of a well-defined cluster.\n",
    "\n",
    "With sklearn, we can easily compute it by using this code:"
   ]
  },
  {
   "cell_type": "code",
   "execution_count": 15,
   "metadata": {},
   "outputs": [
    {
     "data": {
      "text/plain": [
       "19.52509172315154"
      ]
     },
     "execution_count": 15,
     "metadata": {},
     "output_type": "execute_result"
    }
   ],
   "source": [
    "metrics.calinski_harabasz_score(data_points, k_means_model.labels_)"
   ]
  },
  {
   "cell_type": "markdown",
   "metadata": {},
   "source": [
    "In this case, the Calinski-Harabasz index indicates that our k-means model clusters are quite spread out and suggests that we might have overlapping clusters."
   ]
  },
  {
   "cell_type": "markdown",
   "metadata": {},
   "source": [
    "## The Davies-Bouldin Index\n",
    "\n",
    "The Davies-Bouldin index measures the average similarity between clusters. The similarity is a ratio of the distance between a cluster and its closest cluster and the average distance between each data point of a cluster and it's cluster's center. The Davies-Bouldin index doesn't have a range and starts from 0. The closer the score is to 0 the better; it means the clusters are well separated, which is an indication of a good cluster.\n",
    "\n",
    "With sklearn, we can easily compute the Davis-Bouldin index by using this code:"
   ]
  },
  {
   "cell_type": "code",
   "execution_count": 18,
   "metadata": {},
   "outputs": [
    {
     "data": {
      "text/plain": [
       "0.404206621415983"
      ]
     },
     "execution_count": 18,
     "metadata": {},
     "output_type": "execute_result"
    }
   ],
   "source": [
    "metrics.davies_bouldin_score(data_points, k_means_model.labels_)"
   ]
  },
  {
   "cell_type": "markdown",
   "metadata": {},
   "source": [
    "In this case, the Calinski-Harabasz score indicates that our k-means model has some overlapping clusters and an improvement could be made by better separating some of the data points in one of the clusters."
   ]
  },
  {
   "cell_type": "code",
   "execution_count": null,
   "metadata": {},
   "outputs": [],
   "source": []
  }
 ],
 "metadata": {
  "kernelspec": {
   "display_name": "Python 3",
   "language": "python",
   "name": "python3"
  },
  "language_info": {
   "codemirror_mode": {
    "name": "ipython",
    "version": 3
   },
   "file_extension": ".py",
   "mimetype": "text/x-python",
   "name": "python",
   "nbconvert_exporter": "python",
   "pygments_lexer": "ipython3",
   "version": "3.8.5"
  }
 },
 "nbformat": 4,
 "nbformat_minor": 4
}
